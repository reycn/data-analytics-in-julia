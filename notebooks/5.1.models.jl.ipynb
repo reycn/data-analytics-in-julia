{
 "cells": [
  {
   "cell_type": "markdown",
   "metadata": {},
   "source": [
    "# Chapter 5. Statisticcal Tests and Linear Regression"
   ]
  },
  {
   "cell_type": "code",
   "execution_count": 2,
   "metadata": {},
   "outputs": [
    {
     "name": "stderr",
     "output_type": "stream",
     "text": [
      "\u001b[32m\u001b[1m   Resolving\u001b[22m\u001b[39m package versions...\n",
      "\u001b[32m\u001b[1m  No Changes\u001b[22m\u001b[39m to `~/.julia/environments/v1.11/Project.toml`\n",
      "\u001b[32m\u001b[1m  No Changes\u001b[22m\u001b[39m to `~/.julia/environments/v1.11/Manifest.toml`\n"
     ]
    }
   ],
   "source": [
    "using Pkg;\n",
    "Pkg.add(\"HypothesisTests\");\n",
    "using HypothesisTests, CSV, DataFrames, RDatasets"
   ]
  },
  {
   "cell_type": "code",
   "execution_count": 3,
   "metadata": {},
   "outputs": [
    {
     "data": {
      "text/html": [
       "<div><div style = \"float: left;\"><span>5×5 DataFrame</span></div><div style = \"clear: both;\"></div></div><div class = \"data-frame\" style = \"overflow-x: scroll;\"><table class = \"data-frame\" style = \"margin-bottom: 6px;\"><thead><tr class = \"header\"><th class = \"rowNumber\" style = \"font-weight: bold; text-align: right;\">Row</th><th style = \"text-align: left;\">SepalLength</th><th style = \"text-align: left;\">SepalWidth</th><th style = \"text-align: left;\">PetalLength</th><th style = \"text-align: left;\">PetalWidth</th><th style = \"text-align: left;\">Species</th></tr><tr class = \"subheader headerLastRow\"><th class = \"rowNumber\" style = \"font-weight: bold; text-align: right;\"></th><th title = \"Float64\" style = \"text-align: left;\">Float64</th><th title = \"Float64\" style = \"text-align: left;\">Float64</th><th title = \"Float64\" style = \"text-align: left;\">Float64</th><th title = \"Float64\" style = \"text-align: left;\">Float64</th><th title = \"CategoricalArrays.CategoricalValue{String, UInt8}\" style = \"text-align: left;\">Cat…</th></tr></thead><tbody><tr><td class = \"rowNumber\" style = \"font-weight: bold; text-align: right;\">1</td><td style = \"text-align: right;\">5.1</td><td style = \"text-align: right;\">3.5</td><td style = \"text-align: right;\">1.4</td><td style = \"text-align: right;\">0.2</td><td style = \"text-align: left;\">setosa</td></tr><tr><td class = \"rowNumber\" style = \"font-weight: bold; text-align: right;\">2</td><td style = \"text-align: right;\">4.9</td><td style = \"text-align: right;\">3.0</td><td style = \"text-align: right;\">1.4</td><td style = \"text-align: right;\">0.2</td><td style = \"text-align: left;\">setosa</td></tr><tr><td class = \"rowNumber\" style = \"font-weight: bold; text-align: right;\">3</td><td style = \"text-align: right;\">4.7</td><td style = \"text-align: right;\">3.2</td><td style = \"text-align: right;\">1.3</td><td style = \"text-align: right;\">0.2</td><td style = \"text-align: left;\">setosa</td></tr><tr><td class = \"rowNumber\" style = \"font-weight: bold; text-align: right;\">4</td><td style = \"text-align: right;\">4.6</td><td style = \"text-align: right;\">3.1</td><td style = \"text-align: right;\">1.5</td><td style = \"text-align: right;\">0.2</td><td style = \"text-align: left;\">setosa</td></tr><tr><td class = \"rowNumber\" style = \"font-weight: bold; text-align: right;\">5</td><td style = \"text-align: right;\">5.0</td><td style = \"text-align: right;\">3.6</td><td style = \"text-align: right;\">1.4</td><td style = \"text-align: right;\">0.2</td><td style = \"text-align: left;\">setosa</td></tr></tbody></table></div>"
      ],
      "text/latex": [
       "\\begin{tabular}{r|ccccc}\n",
       "\t& SepalLength & SepalWidth & PetalLength & PetalWidth & Species\\\\\n",
       "\t\\hline\n",
       "\t& Float64 & Float64 & Float64 & Float64 & Cat…\\\\\n",
       "\t\\hline\n",
       "\t1 & 5.1 & 3.5 & 1.4 & 0.2 & setosa \\\\\n",
       "\t2 & 4.9 & 3.0 & 1.4 & 0.2 & setosa \\\\\n",
       "\t3 & 4.7 & 3.2 & 1.3 & 0.2 & setosa \\\\\n",
       "\t4 & 4.6 & 3.1 & 1.5 & 0.2 & setosa \\\\\n",
       "\t5 & 5.0 & 3.6 & 1.4 & 0.2 & setosa \\\\\n",
       "\\end{tabular}\n"
      ],
      "text/plain": [
       "\u001b[1m5×5 DataFrame\u001b[0m\n",
       "\u001b[1m Row \u001b[0m│\u001b[1m SepalLength \u001b[0m\u001b[1m SepalWidth \u001b[0m\u001b[1m PetalLength \u001b[0m\u001b[1m PetalWidth \u001b[0m\u001b[1m Species \u001b[0m\n",
       "     │\u001b[90m Float64     \u001b[0m\u001b[90m Float64    \u001b[0m\u001b[90m Float64     \u001b[0m\u001b[90m Float64    \u001b[0m\u001b[90m Cat…    \u001b[0m\n",
       "─────┼───────────────────────────────────────────────────────────\n",
       "   1 │         5.1         3.5          1.4         0.2  setosa\n",
       "   2 │         4.9         3.0          1.4         0.2  setosa\n",
       "   3 │         4.7         3.2          1.3         0.2  setosa\n",
       "   4 │         4.6         3.1          1.5         0.2  setosa\n",
       "   5 │         5.0         3.6          1.4         0.2  setosa"
      ]
     },
     "execution_count": 3,
     "metadata": {},
     "output_type": "execute_result"
    }
   ],
   "source": [
    "df = dataset(\"datasets\", \"iris\")\n",
    "first(df, 5)"
   ]
  },
  {
   "cell_type": "markdown",
   "metadata": {},
   "source": [
    "## T-tests"
   ]
  },
  {
   "cell_type": "markdown",
   "metadata": {},
   "source": [
    "### One-sample"
   ]
  },
  {
   "cell_type": "code",
   "execution_count": 4,
   "metadata": {},
   "outputs": [
    {
     "data": {
      "text/plain": [
       "One sample t-test\n",
       "-----------------\n",
       "Population details:\n",
       "    parameter of interest:   Mean\n",
       "    value under h_0:         20\n",
       "    point estimate:          3.758\n",
       "    95% confidence interval: (3.473, 4.043)\n",
       "\n",
       "Test summary:\n",
       "    outcome with 95% confidence: reject h_0\n",
       "    two-sided p-value:           <1e-99\n",
       "\n",
       "Details:\n",
       "    number of observations:   150\n",
       "    t-statistic:              -112.68524392285158\n",
       "    degrees of freedom:       149\n",
       "    empirical standard error: 0.14413599717741096\n"
      ]
     },
     "execution_count": 4,
     "metadata": {},
     "output_type": "execute_result"
    }
   ],
   "source": [
    "mu = 20\n",
    "OneSampleTTest(df.PetalLength, mu)"
   ]
  },
  {
   "cell_type": "markdown",
   "metadata": {},
   "source": [
    "### Two-samples"
   ]
  },
  {
   "cell_type": "code",
   "execution_count": 5,
   "metadata": {},
   "outputs": [
    {
     "data": {
      "text/plain": [
       "Two sample t-test (unequal variance)\n",
       "------------------------------------\n",
       "Population details:\n",
       "    parameter of interest:   Mean difference\n",
       "    value under h_0:         0\n",
       "    point estimate:          2.55867\n",
       "    95% confidence interval: (2.249, 2.868)\n",
       "\n",
       "Test summary:\n",
       "    outcome with 95% confidence: reject h_0\n",
       "    two-sided p-value:           <1e-37\n",
       "\n",
       "Details:\n",
       "    number of observations:   [150,150]\n",
       "    t-statistic:              16.29738511857255\n",
       "    degrees of freedom:       202.69340598104046\n",
       "    empirical standard error: 0.1569986011897579\n"
      ]
     },
     "execution_count": 5,
     "metadata": {},
     "output_type": "execute_result"
    }
   ],
   "source": [
    "UnequalVarianceTTest(df.PetalLength, df.PetalWidth)"
   ]
  },
  {
   "cell_type": "markdown",
   "metadata": {},
   "source": [
    "### Paired-samples"
   ]
  },
  {
   "cell_type": "code",
   "execution_count": 6,
   "metadata": {},
   "outputs": [
    {
     "data": {
      "text/plain": [
       "Two sample t-test (equal variance)\n",
       "----------------------------------\n",
       "Population details:\n",
       "    parameter of interest:   Mean difference\n",
       "    value under h_0:         0\n",
       "    point estimate:          2.55867\n",
       "    95% confidence interval: (2.25, 2.868)\n",
       "\n",
       "Test summary:\n",
       "    outcome with 95% confidence: reject h_0\n",
       "    two-sided p-value:           <1e-42\n",
       "\n",
       "Details:\n",
       "    number of observations:   [150,150]\n",
       "    t-statistic:              16.29738511857255\n",
       "    degrees of freedom:       298\n",
       "    empirical standard error: 0.1569986011897579\n"
      ]
     },
     "execution_count": 6,
     "metadata": {},
     "output_type": "execute_result"
    }
   ],
   "source": [
    "EqualVarianceTTest(df.PetalLength, df.PetalWidth)"
   ]
  },
  {
   "cell_type": "markdown",
   "metadata": {},
   "source": [
    "Attention: the usage of a paired sample test is not valid here, just for illustating how to use the function."
   ]
  },
  {
   "cell_type": "markdown",
   "metadata": {},
   "source": [
    "## ANOVA"
   ]
  },
  {
   "cell_type": "code",
   "execution_count": 7,
   "metadata": {},
   "outputs": [
    {
     "data": {
      "text/plain": [
       "One-way analysis of variance (ANOVA) test\n",
       "-----------------------------------------\n",
       "Population details:\n",
       "    parameter of interest:   Means\n",
       "    value under h_0:         \"all equal\"\n",
       "    point estimate:          NaN\n",
       "\n",
       "Test summary:\n",
       "    outcome with 95% confidence: reject h_0\n",
       "    p-value:                     <1e-62\n",
       "\n",
       "Details:\n",
       "    number of observations: [50, 100]\n",
       "    F statistic:            848.606\n",
       "    degrees of freedom:     (1, 148)\n"
      ]
     },
     "execution_count": 7,
     "metadata": {},
     "output_type": "execute_result"
    }
   ],
   "source": [
    "g1 = df[df.Species.==\"setosa\", :PetalLength]\n",
    "g2 = df[df.Species.!=\"setosa\", :PetalLength]\n",
    "\n",
    "groups = [g1, g2]\n",
    "OneWayANOVATest(groups...)"
   ]
  },
  {
   "cell_type": "markdown",
   "metadata": {},
   "source": [
    "# Models in Julia"
   ]
  },
  {
   "cell_type": "code",
   "execution_count": 8,
   "metadata": {},
   "outputs": [
    {
     "name": "stderr",
     "output_type": "stream",
     "text": [
      "\u001b[32m\u001b[1m   Resolving\u001b[22m\u001b[39m package versions...\n",
      "\u001b[32m\u001b[1m    Updating\u001b[22m\u001b[39m `~/.julia/environments/v1.11/Project.toml`\n",
      "  \u001b[90m[38e38edf] \u001b[39m\u001b[92m+ GLM v1.9.0\u001b[39m\n",
      "\u001b[32m\u001b[1m  No Changes\u001b[22m\u001b[39m to `~/.julia/environments/v1.11/Manifest.toml`\n"
     ]
    }
   ],
   "source": [
    "Pkg.add(\"GLM\");\n",
    "using GLM;"
   ]
  },
  {
   "cell_type": "markdown",
   "metadata": {},
   "source": [
    "## 1. Multivariate Linear Regression"
   ]
  },
  {
   "cell_type": "code",
   "execution_count": 9,
   "metadata": {},
   "outputs": [
    {
     "data": {
      "text/plain": [
       "StatsModels.TableRegressionModel{LinearModel{GLM.LmResp{Vector{Float64}}, GLM.DensePredChol{Float64, LinearAlgebra.CholeskyPivoted{Float64, Matrix{Float64}, Vector{Int64}}}}, Matrix{Float64}}\n",
       "\n",
       "PetalLength ~ 1 + PetalWidth\n",
       "\n",
       "Coefficients:\n",
       "───────────────────────────────────────────────────────────────────────\n",
       "               Coef.  Std. Error      t  Pr(>|t|)  Lower 95%  Upper 95%\n",
       "───────────────────────────────────────────────────────────────────────\n",
       "(Intercept)  1.08356   0.072967   14.85    <1e-30   0.939366    1.22775\n",
       "PetalWidth   2.22994   0.0513962  43.39    <1e-85   2.12838     2.33151\n",
       "───────────────────────────────────────────────────────────────────────"
      ]
     },
     "execution_count": 9,
     "metadata": {},
     "output_type": "execute_result"
    }
   ],
   "source": [
    "formula = @formula(PetalLength ~ PetalWidth)\n",
    "lm(formula, df)"
   ]
  },
  {
   "cell_type": "markdown",
   "metadata": {},
   "source": [
    "## 2. Fixed-effects Models (fast)"
   ]
  },
  {
   "cell_type": "code",
   "execution_count": 10,
   "metadata": {},
   "outputs": [
    {
     "name": "stderr",
     "output_type": "stream",
     "text": [
      "\u001b[32m\u001b[1m   Resolving\u001b[22m\u001b[39m package versions...\n",
      "\u001b[32m\u001b[1m  No Changes\u001b[22m\u001b[39m to `~/.julia/environments/v1.11/Project.toml`\n",
      "\u001b[32m\u001b[1m  No Changes\u001b[22m\u001b[39m to `~/.julia/environments/v1.11/Manifest.toml`\n"
     ]
    }
   ],
   "source": [
    "Pkg.add(\"FixedEffectModels\");\n",
    "using FixedEffectModels;"
   ]
  },
  {
   "cell_type": "code",
   "execution_count": 11,
   "metadata": {},
   "outputs": [
    {
     "data": {
      "text/plain": [
       "                            FixedEffectModel                            \n",
       "========================================================================\n",
       "Number of obs:                  150  Converged:                     true\n",
       "dof (model):                      1  dof (residuals):                  3\n",
       "R²:                           0.955  R² adjusted:                  0.954\n",
       "F-statistic:                5.65297  P-value:                      0.098\n",
       "R² within:                    0.235  Iterations:                       1\n",
       "========================================================================\n",
       "            Estimate  Std. Error  t-stat  Pr(>|t|)  Lower 95%  Upper 95%\n",
       "────────────────────────────────────────────────────────────────────────\n",
       "PetalWidth   1.01871    0.428463  2.3776    0.0978  -0.344848    2.38227\n",
       "========================================================================\n"
      ]
     },
     "execution_count": 11,
     "metadata": {},
     "output_type": "execute_result"
    }
   ],
   "source": [
    "formula = @formula(PetalLength ~ PetalWidth + fe(Species))\n",
    "reg(df, formula, Vcov.cluster(:Species))"
   ]
  },
  {
   "cell_type": "markdown",
   "metadata": {},
   "source": [
    "The package of `FixedEffectModels` also supports CUDA, increasing the speed on a computer with Nvidia's graphic toolkit:"
   ]
  },
  {
   "cell_type": "code",
   "execution_count": 12,
   "metadata": {},
   "outputs": [
    {
     "name": "stderr",
     "output_type": "stream",
     "text": [
      "\u001b[32m\u001b[1m   Resolving\u001b[22m\u001b[39m package versions...\n",
      "\u001b[32m\u001b[1m  No Changes\u001b[22m\u001b[39m to `~/.julia/environments/v1.11/Project.toml`\n",
      "\u001b[32m\u001b[1m  No Changes\u001b[22m\u001b[39m to `~/.julia/environments/v1.11/Manifest.toml`\n"
     ]
    },
    {
     "ename": "LoadError",
     "evalue": "Out of GPU memory trying to allocate 1.172 KiB\nEffective GPU memory usage: 99.79% (9.661 GiB/9.681 GiB)\nMemory pool usage: 0 bytes (0 bytes reserved)\n",
     "output_type": "error",
     "traceback": [
      "Out of GPU memory trying to allocate 1.172 KiB\nEffective GPU memory usage: 99.79% (9.661 GiB/9.681 GiB)\nMemory pool usage: 0 bytes (0 bytes reserved)\n",
      "",
      "Stacktrace:",
      "  [1] _pool_alloc",
      "    @ ~/.julia/packages/CUDA/L1qZp/src/memory.jl:660 [inlined]",
      "  [2] macro expansion",
      "    @ ~/.julia/packages/CUDA/L1qZp/src/memory.jl:617 [inlined]",
      "  [3] macro expansion",
      "    @ ./timing.jl:421 [inlined]",
      "  [4] pool_alloc",
      "    @ ~/.julia/packages/CUDA/L1qZp/src/memory.jl:616 [inlined]",
      "  [5] CuArray{Int64, 1, CUDA.DeviceMemory}(::UndefInitializer, dims::Tuple{Int64})",
      "    @ CUDA ~/.julia/packages/CUDA/L1qZp/src/array.jl:74",
      "  [6] CuArray",
      "    @ ~/.julia/packages/CUDA/L1qZp/src/array.jl:398 [inlined]",
      "  [7] CuArray",
      "    @ ~/.julia/packages/CUDA/L1qZp/src/array.jl:403 [inlined]",
      "  [8] CuArray",
      "    @ ~/.julia/packages/CUDA/L1qZp/src/array.jl:412 [inlined]",
      "  [9] _cu(T::Type, fe::FixedEffects.FixedEffect{Vector{Int64}, StatsBase.UnitWeights{Int64}})",
      "    @ CUDAExt ~/.julia/packages/FixedEffects/OoiZD/ext/CUDAExt.jl:14",
      " [10] (::CUDAExt.var\"#1#4\"{Float32})(fe::FixedEffects.FixedEffect{Vector{Int64}, StatsBase.UnitWeights{Int64}})",
      "    @ CUDAExt ./none:0",
      " [11] iterate",
      "    @ ./generator.jl:48 [inlined]",
      " [12] collect(itr::Base.Generator{Vector{FixedEffects.FixedEffect}, CUDAExt.var\"#1#4\"{Float32}})",
      "    @ Base ./array.jl:791",
      " [13] CUDAExt.FixedEffectLinearMapCUDA{Float32}(fes::Vector{FixedEffects.FixedEffect}, nthreads::Int64)",
      "    @ CUDAExt ~/.julia/packages/FixedEffects/OoiZD/ext/CUDAExt.jl:43",
      " [14] FixedEffects.AbstractFixedEffectSolver{Float32}(fes::Vector{FixedEffects.FixedEffect}, weights::StatsBase.UnitWeights{Int64}, ::Type{Val{:CUDA}}, nthreads::Int64)",
      "    @ CUDAExt ~/.julia/packages/FixedEffects/OoiZD/ext/CUDAExt.jl:100",
      " [15] fit(::Type{FixedEffectModel}, formula::FormulaTerm, df::Any, vcov::StatsBase.CovarianceEstimator; contrasts::Dict, weights::Union{Nothing, Symbol}, save::Union{Bool, Symbol}, method::Symbol, nthreads::Integer, double_precision::Bool, tol::Real, maxiter::Integer, drop_singletons::Bool, progress_bar::Bool, subset::Union{Nothing, AbstractVector}, first_stage::Bool)",
      "    @ FixedEffectModels ~/.julia/packages/FixedEffectModels/9B0we/src/fit.jl:242",
      " [16] fit",
      "    @ ~/.julia/packages/FixedEffectModels/9B0we/src/fit.jl:67 [inlined]",
      " [17] #reg#56",
      "    @ ~/.julia/packages/FixedEffectModels/9B0we/src/fit.jl:64 [inlined]",
      " [18] top-level scope",
      "    @ In[12]:6"
     ]
    }
   ],
   "source": [
    "using Pkg\n",
    "Pkg.add(\"CUDA\");\n",
    "using CUDA\n",
    "@assert CUDA.functional()\n",
    "formula = @formula(PetalLength ~ PetalWidth + fe(Species))\n",
    "reg(df, formula, Vcov.cluster(:Species), method=:CUDA)"
   ]
  },
  {
   "cell_type": "markdown",
   "metadata": {},
   "source": [
    "## 3. Mediation"
   ]
  },
  {
   "cell_type": "markdown",
   "metadata": {},
   "source": [
    "While it's common to use packages in R and Python to run mediation analysis, I fail to find an appropriate alternative in Julia.\n",
    "\n",
    "Therefore, we may need to do it by ourselves:"
   ]
  },
  {
   "cell_type": "code",
   "execution_count": null,
   "metadata": {},
   "outputs": [
    {
     "data": {
      "text/html": [
       "<div><div style = \"float: left;\"><span>3×3 DataFrame</span></div><div style = \"clear: both;\"></div></div><div class = \"data-frame\" style = \"overflow-x: scroll;\"><table class = \"data-frame\" style = \"margin-bottom: 6px;\"><thead><tr class = \"header\"><th class = \"rowNumber\" style = \"font-weight: bold; text-align: right;\">Row</th><th style = \"text-align: left;\">X</th><th style = \"text-align: left;\">M</th><th style = \"text-align: left;\">Y</th></tr><tr class = \"subheader headerLastRow\"><th class = \"rowNumber\" style = \"font-weight: bold; text-align: right;\"></th><th title = \"Float64\" style = \"text-align: left;\">Float64</th><th title = \"Float64\" style = \"text-align: left;\">Float64</th><th title = \"Float64\" style = \"text-align: left;\">Float64</th></tr></thead><tbody><tr><td class = \"rowNumber\" style = \"font-weight: bold; text-align: right;\">1</td><td style = \"text-align: right;\">0.2</td><td style = \"text-align: right;\">3.5</td><td style = \"text-align: right;\">1.4</td></tr><tr><td class = \"rowNumber\" style = \"font-weight: bold; text-align: right;\">2</td><td style = \"text-align: right;\">0.2</td><td style = \"text-align: right;\">3.0</td><td style = \"text-align: right;\">1.4</td></tr><tr><td class = \"rowNumber\" style = \"font-weight: bold; text-align: right;\">3</td><td style = \"text-align: right;\">0.2</td><td style = \"text-align: right;\">3.2</td><td style = \"text-align: right;\">1.3</td></tr></tbody></table></div>"
      ],
      "text/latex": [
       "\\begin{tabular}{r|ccc}\n",
       "\t& X & M & Y\\\\\n",
       "\t\\hline\n",
       "\t& Float64 & Float64 & Float64\\\\\n",
       "\t\\hline\n",
       "\t1 & 0.2 & 3.5 & 1.4 \\\\\n",
       "\t2 & 0.2 & 3.0 & 1.4 \\\\\n",
       "\t3 & 0.2 & 3.2 & 1.3 \\\\\n",
       "\\end{tabular}\n"
      ],
      "text/plain": [
       "\u001b[1m3×3 DataFrame\u001b[0m\n",
       "\u001b[1m Row \u001b[0m│\u001b[1m X       \u001b[0m\u001b[1m M       \u001b[0m\u001b[1m Y       \u001b[0m\n",
       "     │\u001b[90m Float64 \u001b[0m\u001b[90m Float64 \u001b[0m\u001b[90m Float64 \u001b[0m\n",
       "─────┼───────────────────────────\n",
       "   1 │     0.2      3.5      1.4\n",
       "   2 │     0.2      3.0      1.4\n",
       "   3 │     0.2      3.2      1.3"
      ]
     },
     "execution_count": 12,
     "metadata": {},
     "output_type": "execute_result"
    }
   ],
   "source": [
    "df_mediation = rename(df, [:PetalWidth, :SepalWidth, :PetalLength] .=> [:X, :M, :Y]) |>\n",
    "               d -> d[:, [:X, :M, :Y]]\n",
    "\n",
    "# X -> M\n",
    "fm_a = @formula(M ~ X)\n",
    "\n",
    "# M and X -> Y\n",
    "fm_b_cprime = @formula(Y ~ X + M)\n",
    "\n",
    "# X -> Y\n",
    "fm_c = @formula(Y ~ X)\n",
    "\n",
    "first(df_mediation, 3)"
   ]
  },
  {
   "cell_type": "code",
   "execution_count": null,
   "metadata": {},
   "outputs": [
    {
     "data": {
      "text/plain": [
       "StatsModels.TableRegressionModel{LinearModel{GLM.LmResp{Vector{Float64}}, GLM.DensePredChol{Float64, LinearAlgebra.CholeskyPivoted{Float64, Matrix{Float64}, Vector{Int64}}}}, Matrix{Float64}}\n",
       "\n",
       "M ~ 1 + X\n",
       "\n",
       "Coefficients:\n",
       "────────────────────────────────────────────────────────────────────────\n",
       "                Coef.  Std. Error      t  Pr(>|t|)  Lower 95%  Upper 95%\n",
       "────────────────────────────────────────────────────────────────────────\n",
       "(Intercept)   3.30843   0.0620975  53.28    <1e-97   3.18571    3.43114\n",
       "X            -0.20936   0.04374    -4.79    <1e-05  -0.295795  -0.122924\n",
       "────────────────────────────────────────────────────────────────────────"
      ]
     },
     "execution_count": 13,
     "metadata": {},
     "output_type": "execute_result"
    }
   ],
   "source": [
    "model_a = lm(fm_a, df_mediation)\n",
    "a = round(coef(model_a)[2], digits=3)  # Path a (coefficient for X)\n",
    "model_a"
   ]
  },
  {
   "cell_type": "code",
   "execution_count": null,
   "metadata": {},
   "outputs": [
    {
     "data": {
      "text/plain": [
       "StatsModels.TableRegressionModel{LinearModel{GLM.LmResp{Vector{Float64}}, GLM.DensePredChol{Float64, LinearAlgebra.CholeskyPivoted{Float64, Matrix{Float64}, Vector{Int64}}}}, Matrix{Float64}}\n",
       "\n",
       "Y ~ 1 + X + M\n",
       "\n",
       "Coefficients:\n",
       "─────────────────────────────────────────────────────────────────────────\n",
       "                 Coef.  Std. Error      t  Pr(>|t|)  Lower 95%  Upper 95%\n",
       "─────────────────────────────────────────────────────────────────────────\n",
       "(Intercept)   2.25816    0.313519    7.20    <1e-10   1.63858    2.87775\n",
       "X             2.15561    0.0528285  40.80    <1e-81   2.05121    2.26001\n",
       "M            -0.355035   0.0923859  -3.84    0.0002  -0.537611  -0.172458\n",
       "─────────────────────────────────────────────────────────────────────────"
      ]
     },
     "execution_count": 14,
     "metadata": {},
     "output_type": "execute_result"
    }
   ],
   "source": [
    "model_b_cprime = lm(fm_b_cprime, df_mediation)\n",
    "b = round(coef(model_b_cprime)[3], digits=3)  # Path b (coefficient for M)\n",
    "c_prime = round(coef(model_b_cprime)[2], digits=3)  # Path c' (coefficient for X)\n",
    "model_b_cprime"
   ]
  },
  {
   "cell_type": "code",
   "execution_count": null,
   "metadata": {},
   "outputs": [
    {
     "data": {
      "text/plain": [
       "StatsModels.TableRegressionModel{LinearModel{GLM.LmResp{Vector{Float64}}, GLM.DensePredChol{Float64, LinearAlgebra.CholeskyPivoted{Float64, Matrix{Float64}, Vector{Int64}}}}, Matrix{Float64}}\n",
       "\n",
       "Y ~ 1 + X\n",
       "\n",
       "Coefficients:\n",
       "───────────────────────────────────────────────────────────────────────\n",
       "               Coef.  Std. Error      t  Pr(>|t|)  Lower 95%  Upper 95%\n",
       "───────────────────────────────────────────────────────────────────────\n",
       "(Intercept)  1.08356   0.072967   14.85    <1e-30   0.939366    1.22775\n",
       "X            2.22994   0.0513962  43.39    <1e-85   2.12838     2.33151\n",
       "───────────────────────────────────────────────────────────────────────"
      ]
     },
     "execution_count": 15,
     "metadata": {},
     "output_type": "execute_result"
    }
   ],
   "source": [
    "model_c = lm(fm_c, df_mediation)\n",
    "c = round(coef(model_c)[2], digits=3)  # Path c (coefficient for X)\n",
    "model_c"
   ]
  },
  {
   "cell_type": "markdown",
   "metadata": {},
   "source": [
    "Calculate direct and indirect effects:"
   ]
  },
  {
   "cell_type": "code",
   "execution_count": null,
   "metadata": {},
   "outputs": [
    {
     "name": "stdout",
     "output_type": "stream",
     "text": [
      "Path a (X -> M): -0.209\n",
      "Path b (M -> Y controlling for X): -0.355\n",
      "Path c' (Direct effect of X on Y): 2.156\n",
      "Path c (Total effect of X on Y): 2.23\n",
      "Indirect Effect (a * b): 0.074\n"
     ]
    }
   ],
   "source": [
    "# Indirect effect\n",
    "indirect_effect = round(a * b, digits=3)\n",
    "\n",
    "# Total effect\n",
    "total_effect = c\n",
    "\n",
    "# Print results\n",
    "println(\"Path a (X -> M): $a\")\n",
    "println(\"Path b (M -> Y controlling for X): $b\")\n",
    "println(\"Path c' (Direct effect of X on Y): $c_prime\")\n",
    "println(\"Path c (Total effect of X on Y): $c\")\n",
    "println(\"Indirect Effect (a * b): $indirect_effect\")"
   ]
  },
  {
   "cell_type": "markdown",
   "metadata": {},
   "source": [
    "*(Attention, the theoritical assumption of this example here does not hold, just for illustration)*"
   ]
  },
  {
   "cell_type": "markdown",
   "metadata": {},
   "source": [
    "## 4. Moderation"
   ]
  },
  {
   "cell_type": "code",
   "execution_count": null,
   "metadata": {},
   "outputs": [
    {
     "data": {
      "text/html": [
       "<div><div style = \"float: left;\"><span>3×3 DataFrame</span></div><div style = \"clear: both;\"></div></div><div class = \"data-frame\" style = \"overflow-x: scroll;\"><table class = \"data-frame\" style = \"margin-bottom: 6px;\"><thead><tr class = \"header\"><th class = \"rowNumber\" style = \"font-weight: bold; text-align: right;\">Row</th><th style = \"text-align: left;\">X</th><th style = \"text-align: left;\">W</th><th style = \"text-align: left;\">Y</th></tr><tr class = \"subheader headerLastRow\"><th class = \"rowNumber\" style = \"font-weight: bold; text-align: right;\"></th><th title = \"Float64\" style = \"text-align: left;\">Float64</th><th title = \"Float64\" style = \"text-align: left;\">Float64</th><th title = \"Float64\" style = \"text-align: left;\">Float64</th></tr></thead><tbody><tr><td class = \"rowNumber\" style = \"font-weight: bold; text-align: right;\">1</td><td style = \"text-align: right;\">0.2</td><td style = \"text-align: right;\">3.5</td><td style = \"text-align: right;\">1.4</td></tr><tr><td class = \"rowNumber\" style = \"font-weight: bold; text-align: right;\">2</td><td style = \"text-align: right;\">0.2</td><td style = \"text-align: right;\">3.0</td><td style = \"text-align: right;\">1.4</td></tr><tr><td class = \"rowNumber\" style = \"font-weight: bold; text-align: right;\">3</td><td style = \"text-align: right;\">0.2</td><td style = \"text-align: right;\">3.2</td><td style = \"text-align: right;\">1.3</td></tr></tbody></table></div>"
      ],
      "text/latex": [
       "\\begin{tabular}{r|ccc}\n",
       "\t& X & W & Y\\\\\n",
       "\t\\hline\n",
       "\t& Float64 & Float64 & Float64\\\\\n",
       "\t\\hline\n",
       "\t1 & 0.2 & 3.5 & 1.4 \\\\\n",
       "\t2 & 0.2 & 3.0 & 1.4 \\\\\n",
       "\t3 & 0.2 & 3.2 & 1.3 \\\\\n",
       "\\end{tabular}\n"
      ],
      "text/plain": [
       "\u001b[1m3×3 DataFrame\u001b[0m\n",
       "\u001b[1m Row \u001b[0m│\u001b[1m X       \u001b[0m\u001b[1m W       \u001b[0m\u001b[1m Y       \u001b[0m\n",
       "     │\u001b[90m Float64 \u001b[0m\u001b[90m Float64 \u001b[0m\u001b[90m Float64 \u001b[0m\n",
       "─────┼───────────────────────────\n",
       "   1 │     0.2      3.5      1.4\n",
       "   2 │     0.2      3.0      1.4\n",
       "   3 │     0.2      3.2      1.3"
      ]
     },
     "execution_count": 17,
     "metadata": {},
     "output_type": "execute_result"
    }
   ],
   "source": [
    "df_moderation = rename(df, [:PetalWidth, :SepalWidth, :PetalLength] .=> [:X, :W, :Y]) |>\n",
    "                d -> d[:, [:X, :W, :Y]]\n",
    "\n",
    "\n",
    "# X -> Y\n",
    "fm_a = @formula(Y ~ X)\n",
    "\n",
    "# W moderating X -> Y\n",
    "fm_b = @formula(Y ~ X * W)\n",
    "\n",
    "first(df_moderation, 3)"
   ]
  },
  {
   "cell_type": "code",
   "execution_count": null,
   "metadata": {},
   "outputs": [
    {
     "data": {
      "text/plain": [
       "StatsModels.TableRegressionModel{LinearModel{GLM.LmResp{Vector{Float64}}, GLM.DensePredChol{Float64, LinearAlgebra.CholeskyPivoted{Float64, Matrix{Float64}, Vector{Int64}}}}, Matrix{Float64}}\n",
       "\n",
       "Y ~ 1 + X\n",
       "\n",
       "Coefficients:\n",
       "───────────────────────────────────────────────────────────────────────\n",
       "               Coef.  Std. Error      t  Pr(>|t|)  Lower 95%  Upper 95%\n",
       "───────────────────────────────────────────────────────────────────────\n",
       "(Intercept)  1.08356   0.072967   14.85    <1e-30   0.939366    1.22775\n",
       "X            2.22994   0.0513962  43.39    <1e-85   2.12838     2.33151\n",
       "───────────────────────────────────────────────────────────────────────"
      ]
     },
     "execution_count": 18,
     "metadata": {},
     "output_type": "execute_result"
    }
   ],
   "source": [
    "model_a = lm(fm_a, df_moderation)\n",
    "b_1 = round(coef(model_a)[2], digits=3)  # Original model\n",
    "model_a"
   ]
  },
  {
   "cell_type": "code",
   "execution_count": null,
   "metadata": {},
   "outputs": [
    {
     "data": {
      "text/plain": [
       "StatsModels.TableRegressionModel{LinearModel{GLM.LmResp{Vector{Float64}}, GLM.DensePredChol{Float64, LinearAlgebra.CholeskyPivoted{Float64, Matrix{Float64}, Vector{Int64}}}}, Matrix{Float64}}\n",
       "\n",
       "Y ~ 1 + X + W + X & W\n",
       "\n",
       "Coefficients:\n",
       "──────────────────────────────────────────────────────────────────────────\n",
       "                  Coef.  Std. Error      t  Pr(>|t|)  Lower 95%  Upper 95%\n",
       "──────────────────────────────────────────────────────────────────────────\n",
       "(Intercept)   2.28181      0.583452   3.91    0.0001   1.12871    3.43492\n",
       "X             2.13257      0.481634   4.43    <1e-04   1.18069    3.08445\n",
       "W            -0.362079     0.173239  -2.09    0.0383  -0.704459  -0.019698\n",
       "X & W         0.0071967    0.149522   0.05    0.9617  -0.288311   0.302704\n",
       "──────────────────────────────────────────────────────────────────────────"
      ]
     },
     "execution_count": 19,
     "metadata": {},
     "output_type": "execute_result"
    }
   ],
   "source": [
    "model_b = lm(fm_b, df_moderation)\n",
    "b_3 = round(coef(model_b)[4], digits=3)  # Original model\n",
    "model_b"
   ]
  },
  {
   "cell_type": "code",
   "execution_count": null,
   "metadata": {},
   "outputs": [
    {
     "name": "stdout",
     "output_type": "stream",
     "text": [
      "Moderation effect: 0.007 (no-sig.)\n"
     ]
    }
   ],
   "source": [
    "println(\"Moderation effect: $b_3 (no-sig.)\")"
   ]
  },
  {
   "cell_type": "markdown",
   "metadata": {},
   "source": [
    "*(Attention, the theoritical assumption of this example here does not hold, just for illustration)*"
   ]
  },
  {
   "cell_type": "markdown",
   "metadata": {},
   "source": [
    "## 5. Conditional Process"
   ]
  },
  {
   "cell_type": "markdown",
   "metadata": {},
   "source": [
    "*A more complete analysis, therefore, should attempt to model the mechanisms at work linking X to Y while simultaneously allowing those effects to be contingent on context, circumstance, or individual differences. (Andrew F. Hayes, 2018, p. 395)*\n"
   ]
  },
  {
   "cell_type": "markdown",
   "metadata": {},
   "source": [
    "For instance, we want to test if the relation between X and Y, is mediated by M, and the M on Y is moderated by W. In the current dataset, we assume:\n",
    "- **X**: PetalWidth\n",
    "- **M**: SepalLength\n",
    "- **W**: SepalWidth\n",
    "- **Y**: PetalLength"
   ]
  },
  {
   "cell_type": "code",
   "execution_count": null,
   "metadata": {},
   "outputs": [
    {
     "data": {
      "text/html": [
       "<div><div style = \"float: left;\"><span>3×4 DataFrame</span></div><div style = \"clear: both;\"></div></div><div class = \"data-frame\" style = \"overflow-x: scroll;\"><table class = \"data-frame\" style = \"margin-bottom: 6px;\"><thead><tr class = \"header\"><th class = \"rowNumber\" style = \"font-weight: bold; text-align: right;\">Row</th><th style = \"text-align: left;\">X</th><th style = \"text-align: left;\">M</th><th style = \"text-align: left;\">W</th><th style = \"text-align: left;\">Y</th></tr><tr class = \"subheader headerLastRow\"><th class = \"rowNumber\" style = \"font-weight: bold; text-align: right;\"></th><th title = \"Float64\" style = \"text-align: left;\">Float64</th><th title = \"Float64\" style = \"text-align: left;\">Float64</th><th title = \"Float64\" style = \"text-align: left;\">Float64</th><th title = \"Float64\" style = \"text-align: left;\">Float64</th></tr></thead><tbody><tr><td class = \"rowNumber\" style = \"font-weight: bold; text-align: right;\">1</td><td style = \"text-align: right;\">0.2</td><td style = \"text-align: right;\">5.1</td><td style = \"text-align: right;\">3.5</td><td style = \"text-align: right;\">1.4</td></tr><tr><td class = \"rowNumber\" style = \"font-weight: bold; text-align: right;\">2</td><td style = \"text-align: right;\">0.2</td><td style = \"text-align: right;\">4.9</td><td style = \"text-align: right;\">3.0</td><td style = \"text-align: right;\">1.4</td></tr><tr><td class = \"rowNumber\" style = \"font-weight: bold; text-align: right;\">3</td><td style = \"text-align: right;\">0.2</td><td style = \"text-align: right;\">4.7</td><td style = \"text-align: right;\">3.2</td><td style = \"text-align: right;\">1.3</td></tr></tbody></table></div>"
      ],
      "text/latex": [
       "\\begin{tabular}{r|cccc}\n",
       "\t& X & M & W & Y\\\\\n",
       "\t\\hline\n",
       "\t& Float64 & Float64 & Float64 & Float64\\\\\n",
       "\t\\hline\n",
       "\t1 & 0.2 & 5.1 & 3.5 & 1.4 \\\\\n",
       "\t2 & 0.2 & 4.9 & 3.0 & 1.4 \\\\\n",
       "\t3 & 0.2 & 4.7 & 3.2 & 1.3 \\\\\n",
       "\\end{tabular}\n"
      ],
      "text/plain": [
       "\u001b[1m3×4 DataFrame\u001b[0m\n",
       "\u001b[1m Row \u001b[0m│\u001b[1m X       \u001b[0m\u001b[1m M       \u001b[0m\u001b[1m W       \u001b[0m\u001b[1m Y       \u001b[0m\n",
       "     │\u001b[90m Float64 \u001b[0m\u001b[90m Float64 \u001b[0m\u001b[90m Float64 \u001b[0m\u001b[90m Float64 \u001b[0m\n",
       "─────┼────────────────────────────────────\n",
       "   1 │     0.2      5.1      3.5      1.4\n",
       "   2 │     0.2      4.9      3.0      1.4\n",
       "   3 │     0.2      4.7      3.2      1.3"
      ]
     },
     "execution_count": 21,
     "metadata": {},
     "output_type": "execute_result"
    }
   ],
   "source": [
    "df_conditional = rename(df, [:PetalWidth, :SepalLength, :SepalWidth, :PetalLength] .=> [:X, :M, :W, :Y]) |>\n",
    "                 d -> d[:, [:X, :M, :W, :Y]]\n",
    "\n",
    "first(df_conditional, 3)"
   ]
  },
  {
   "cell_type": "markdown",
   "metadata": {},
   "source": [
    "Suppose that we expect:\n",
    "- $M=i_M+aX+\\epsilon_M$\n",
    "- $Y=i_Y+c'X+b_1M+b_2W+b_3WM+\\epsilon_Y$"
   ]
  },
  {
   "cell_type": "code",
   "execution_count": null,
   "metadata": {},
   "outputs": [
    {
     "data": {
      "text/plain": [
       "FormulaTerm\n",
       "Response:\n",
       "  Y(unknown)\n",
       "Predictors:\n",
       "  X(unknown)"
      ]
     },
     "execution_count": 29,
     "metadata": {},
     "output_type": "execute_result"
    }
   ],
   "source": [
    "# a: X -> M\n",
    "fm_a = @formula(M ~ X * W)\n",
    "\n",
    "# b and c: M -> Y\n",
    "fm_b = @formula(Y ~ X + M + W * M)\n",
    "\n",
    "# c: X -> Y\n",
    "fm_c = @formula(Y ~ X)"
   ]
  },
  {
   "cell_type": "code",
   "execution_count": null,
   "metadata": {},
   "outputs": [
    {
     "data": {
      "text/plain": [
       "StatsModels.TableRegressionModel{LinearModel{GLM.LmResp{Vector{Float64}}, GLM.DensePredChol{Float64, LinearAlgebra.CholeskyPivoted{Float64, Matrix{Float64}, Vector{Int64}}}}, Matrix{Float64}}\n",
       "\n",
       "M ~ 1 + X + W + X & W\n",
       "\n",
       "Coefficients:\n",
       "──────────────────────────────────────────────────────────────────────────\n",
       "                  Coef.  Std. Error      t  Pr(>|t|)  Lower 95%  Upper 95%\n",
       "──────────────────────────────────────────────────────────────────────────\n",
       "(Intercept)   3.13046      0.5745     5.45    <1e-06   1.99505    4.26587\n",
       "X             1.29057      0.474244   2.72    0.0073   0.353302   2.22784\n",
       "W             0.496425     0.170581   2.91    0.0042   0.159298   0.833551\n",
       "X & W        -0.0994638    0.147228  -0.68    0.5004  -0.390437   0.191509\n",
       "──────────────────────────────────────────────────────────────────────────"
      ]
     },
     "execution_count": 30,
     "metadata": {},
     "output_type": "execute_result"
    }
   ],
   "source": [
    "model_a = lm(fm_a, df_conditional)\n",
    "a = round(coef(model_a)[2], digits=3)  # X -> M\n",
    "model_a"
   ]
  },
  {
   "cell_type": "code",
   "execution_count": null,
   "metadata": {},
   "outputs": [
    {
     "data": {
      "text/plain": [
       "StatsModels.TableRegressionModel{LinearModel{GLM.LmResp{Vector{Float64}}, GLM.DensePredChol{Float64, LinearAlgebra.CholeskyPivoted{Float64, Matrix{Float64}, Vector{Int64}}}}, Matrix{Float64}}\n",
       "\n",
       "Y ~ 1 + X + M + W + W & M\n",
       "\n",
       "Coefficients:\n",
       "───────────────────────────────────────────────────────────────────────────\n",
       "                  Coef.  Std. Error      t  Pr(>|t|)   Lower 95%  Upper 95%\n",
       "───────────────────────────────────────────────────────────────────────────\n",
       "(Intercept)   0.714816    1.56623     0.46    0.6488  -2.38078     3.81041\n",
       "X             1.43584     0.0699066  20.54    <1e-44   1.29767     1.57401\n",
       "M             0.561752    0.269701    2.08    0.0390   0.0286989   1.09481\n",
       "W            -0.970405    0.514856   -1.88    0.0615  -1.988       0.047187\n",
       "W & M         0.0564153   0.0887396   0.64    0.5259  -0.118975    0.231806\n",
       "───────────────────────────────────────────────────────────────────────────"
      ]
     },
     "execution_count": 31,
     "metadata": {},
     "output_type": "execute_result"
    }
   ],
   "source": [
    "model_b = lm(fm_b, df_conditional)\n",
    "\n",
    "c_prime = round(coef(model_b)[2], digits=3)  # indirect_effect\n",
    "b_1 = round(coef(model_b)[3], digits=3)  # M -> Y\n",
    "b_2 = round(coef(model_b)[4], digits=3)  # W -> Y\n",
    "b_3 = round(coef(model_b)[5], digits=3)  # M*W -> Y\n",
    "model_b"
   ]
  },
  {
   "cell_type": "code",
   "execution_count": null,
   "metadata": {},
   "outputs": [
    {
     "data": {
      "text/plain": [
       "StatsModels.TableRegressionModel{LinearModel{GLM.LmResp{Vector{Float64}}, GLM.DensePredChol{Float64, LinearAlgebra.CholeskyPivoted{Float64, Matrix{Float64}, Vector{Int64}}}}, Matrix{Float64}}\n",
       "\n",
       "Y ~ 1 + X\n",
       "\n",
       "Coefficients:\n",
       "───────────────────────────────────────────────────────────────────────\n",
       "               Coef.  Std. Error      t  Pr(>|t|)  Lower 95%  Upper 95%\n",
       "───────────────────────────────────────────────────────────────────────\n",
       "(Intercept)  1.08356   0.072967   14.85    <1e-30   0.939366    1.22775\n",
       "X            2.22994   0.0513962  43.39    <1e-85   2.12838     2.33151\n",
       "───────────────────────────────────────────────────────────────────────"
      ]
     },
     "execution_count": 32,
     "metadata": {},
     "output_type": "execute_result"
    }
   ],
   "source": [
    "model_c = lm(fm_c, df_conditional)\n",
    "c = round(coef(model_c)[2], digits=3)  # Original model\n",
    "model_c"
   ]
  },
  {
   "cell_type": "code",
   "execution_count": null,
   "metadata": {},
   "outputs": [
    {
     "name": "stdout",
     "output_type": "stream",
     "text": [
      "Path a (X -> M): 1.291\n",
      "Path b1 (M -> Y): 0.562\n",
      "Path b2 (W -> Y): -0.97\n",
      "Path b3 (MW -> Y): 0.056\n",
      "Indirect Effect (a * b_1): 0.726\n"
     ]
    }
   ],
   "source": [
    "# Indirect effect\n",
    "indirect_effect = round(a * b_1, digits=3)\n",
    "\n",
    "# Total effect\n",
    "total_effect = c\n",
    "\n",
    "# Print results\n",
    "println(\"Path a (X -> M): $a\")\n",
    "println(\"Path b1 (M -> Y): $b_1\")\n",
    "println(\"Path b2 (W -> Y): $b_2\")\n",
    "println(\"Path b3 (MW -> Y): $b_3\")\n",
    "println(\"Indirect Effect (a * b_1): $indirect_effect\")"
   ]
  },
  {
   "cell_type": "markdown",
   "metadata": {},
   "source": [
    "If you need bootstraping and everything else introduces by Hayes, we can using R or Python in Julia to do so."
   ]
  }
 ],
 "metadata": {
  "kernelspec": {
   "display_name": "Julia (4 threads) 1.11.4",
   "language": "julia",
   "name": "julia-_4-threads_-1.11"
  },
  "language_info": {
   "file_extension": ".jl",
   "mimetype": "application/julia",
   "name": "julia",
   "version": "1.11.4"
  }
 },
 "nbformat": 4,
 "nbformat_minor": 2
}
