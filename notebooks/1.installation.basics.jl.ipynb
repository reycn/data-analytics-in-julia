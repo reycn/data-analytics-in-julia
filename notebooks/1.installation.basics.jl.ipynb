{
 "cells": [
  {
   "cell_type": "markdown",
   "metadata": {},
   "source": [
    "# Chapter 1. Installation and Basics"
   ]
  },
  {
   "cell_type": "markdown",
   "metadata": {},
   "source": [
    "## Why do we need Julia?"
   ]
  },
  {
   "cell_type": "markdown",
   "metadata": {},
   "source": [
    "Given the popularity of Python, R, and Stata (in Econ.), why do we need Julia? Three reasons:\n",
    "- **Fast**, compared with popoular programming langugages in data analysis, Julia shows high efficiency, as shown in the following figure.  \n",
    "    \n",
    "    ![img](./res/img/eff.bench.png)  \n",
    "\n",
    "    *(The evaluation is done byDaniel Moura at https://towardsdatascience.com/r-vs-python-vs-julia-90456a2bcbab)*"
   ]
  },
  {
   "cell_type": "markdown",
   "metadata": {},
   "source": [
    "- **Ease of use** This language is new, but pretty similar to R and Python & optimized for data analysis."
   ]
  },
  {
   "cell_type": "markdown",
   "metadata": {},
   "source": [
    "- **Python / R integrateble**: Julia allows you integrate ggplot2 in R, pytorch in Python into a data project written in Julia. More details can be found in [Chatper 7](https://data-julia.rongxin.me/7.r.and.python.in.julia.jl)."
   ]
  },
  {
   "cell_type": "markdown",
   "metadata": {},
   "source": [
    "\n",
    "## How to install Julia\n",
    "\n",
    "For fresh installation on linux / mac ([if you are using windows, click here](https://julialang.org/downloads/)):\n",
    "\n",
    "`curl -fsSL <https://install.julialang.org> | sh`\n",
    "\n",
    "\n",
    "\n",
    "If you have previous versions installed:\n",
    "\n",
    "`juliaup self uninstall`"
   ]
  },
  {
   "cell_type": "markdown",
   "metadata": {},
   "source": [
    "\n",
    "## Using Julia in Jupyter Notebooks\n",
    "1. Run `julia` in your shell / commandline\n",
    "2. Install the package for installing a kernel for Jupyter notebooks\n",
    "   ```Julia\n",
    "    using Pkg\n",
    "    Pkg.add(\"IJulia\")\n",
    "    ```\n",
    "3. Install a kernel for Jupyter notebook:\n",
    "\n",
    "    ```Julia\n",
    "    using IJulia\n",
    "    installkernel(\"Julia\", \"--depwarn=no\")\n",
    "    ```\n",
    "\n",
    "4. *(optional)* Install additional kernels for multi-threads computing:\n",
    "   - 8 thraeds\n",
    "\n",
    "       ```Julia\n",
    "       using IJulia\n",
    "       installkernel(\"Julia (8 threads)\", env=Dict(\"JULIA_NUM_THREADS\"=>\"8\"))\n",
    "       ```\n",
    "\n",
    "   - 32 thraeds\n",
    "       ```Julia\n",
    "       using IJulia\n",
    "       installkernel(\"Julia (32 threads)\", env=Dict(\"JULIA_NUM_THREADS\"=>\"32\"))\n",
    "       ```\n",
    "    *(Additional information can be found [here](https://julialang.github.io/IJulia.jl/stable/manual/installation/))*\n",
    "\n",
    "\n",
    "Now, you will be able to choose Julia for your Jupyter notebooks:\n",
    "\n",
    "![img](./res/img/kernels.png)"
   ]
  },
  {
   "cell_type": "markdown",
   "metadata": {},
   "source": [
    "### Update Julia"
   ]
  },
  {
   "cell_type": "markdown",
   "metadata": {},
   "source": [
    "In your terminal, `juliaup update`"
   ]
  },
  {
   "cell_type": "markdown",
   "metadata": {},
   "source": [
    "Update kernels for notebook: \n",
    "\n",
    "       ```Julia\n",
    "       using IJulia\n",
    "       installkernel(\"Julia (8 threads)\", env=Dict(\"JULIA_NUM_THREADS\"=>\"8\"))\n",
    "       ```"
   ]
  },
  {
   "cell_type": "markdown",
   "metadata": {},
   "source": [
    "## Basics in Julia"
   ]
  },
  {
   "cell_type": "markdown",
   "metadata": {},
   "source": [
    "### Print, assign, and operatons"
   ]
  },
  {
   "cell_type": "markdown",
   "metadata": {},
   "source": [
    "Different from that in Python and R, Julia uses function `println()` to print strings and logs:"
   ]
  },
  {
   "cell_type": "code",
   "execution_count": 32,
   "metadata": {},
   "outputs": [
    {
     "name": "stdout",
     "output_type": "stream",
     "text": [
      "Hello\n"
     ]
    }
   ],
   "source": [
    "println(\"Hello\")"
   ]
  },
  {
   "cell_type": "markdown",
   "metadata": {},
   "source": [
    "Some times, we want to create new variables, and assign values to them -- it's like Python:"
   ]
  },
  {
   "cell_type": "code",
   "execution_count": 33,
   "metadata": {},
   "outputs": [
    {
     "name": "stdout",
     "output_type": "stream",
     "text": [
      "Hello\n"
     ]
    }
   ],
   "source": [
    "text = \"Hello\"\n",
    "println(text)"
   ]
  },
  {
   "cell_type": "markdown",
   "metadata": {},
   "source": [
    "Of course, we want to combine some logs for us to document the progress of analysis:"
   ]
  },
  {
   "cell_type": "code",
   "execution_count": 34,
   "metadata": {},
   "outputs": [
    {
     "name": "stdout",
     "output_type": "stream",
     "text": [
      "Hello, world!\n"
     ]
    }
   ],
   "source": [
    "text = \"Hello\"\n",
    "text_to_print = string(text, \", world!\")\n",
    "println(text_to_print)"
   ]
  },
  {
   "cell_type": "markdown",
   "metadata": {},
   "source": [
    "Alternatively, you can also use `*` operater to concat strings:"
   ]
  },
  {
   "cell_type": "code",
   "execution_count": 35,
   "metadata": {},
   "outputs": [
    {
     "name": "stdout",
     "output_type": "stream",
     "text": [
      "Hello, world!\n"
     ]
    }
   ],
   "source": [
    "text = \"Hello\"\n",
    "text_to_print = text * \", world!\"\n",
    "println(text_to_print)"
   ]
  },
  {
   "cell_type": "markdown",
   "metadata": {},
   "source": [
    "*(This seemingly weird operation is [explained here](https://docs.julialang.org/en/v1/manual/strings/#man-concatenation))*"
   ]
  },
  {
   "cell_type": "markdown",
   "metadata": {},
   "source": [
    "You may have noted that we are doing operations. In Julia, basic operations of numbers are:\n",
    "\n",
    "1. Arithmetic Operators\n",
    "\n",
    "    | Expression | Name             | Description                                |\n",
    "    |------------|------------------|--------------------------------------------|\n",
    "    | x + y      | binary plus      | performs addition                          |\n",
    "    | x - y      | binary minus     | performs subtraction                       |\n",
    "    | x * y      | times            | performs multiplication                    |\n",
    "    | x / y      | divide           | performs division                          |\n",
    "    | x ÷ y      | integer divide   | x / y, truncated to an integer             |\n",
    "    | x ^ y      | power            | raises x to the yth power                  |\n",
    "    | x % y      | remainder        | equivalent to rem(x, y)                    |\n",
    "\n",
    "    *(Those are common operations, see [full list here](https://docs.julialang.org/en/v1/manual/mathematical-operations/#Arithmetic-Operators))*\n"
   ]
  },
  {
   "cell_type": "markdown",
   "metadata": {},
   "source": [
    "\n",
    "2. Logical Operators\n",
    "\n",
    "    | Expression | Name                   |\n",
    "    |------------|------------------------|\n",
    "    | !x         | Not               |\n",
    "    | x && y     | And   |\n",
    "    | x \\|\\| y     | Or    |\n"
   ]
  },
  {
   "cell_type": "markdown",
   "metadata": {},
   "source": [
    "3. Comparisons\n",
    "\n",
    "    | Operator | Name                         |\n",
    "    |----------|------------------------------|\n",
    "    | ==       | Equal to                     |\n",
    "    | !=, ≠    | Not equal to                  |\n",
    "    | <        | Less than                    |\n",
    "    | <=, ≤    | Less than or equal to        |\n",
    "    | >        | Greater than                 |\n",
    "    | >=, ≥    | Greater than or equal to     |"
   ]
  },
  {
   "cell_type": "markdown",
   "metadata": {},
   "source": [
    "\n",
    "There are more operations less frequently used in data analysis, see [full list here](https://docs.julialang.org/en/v1/manual/mathematical-operations/#Arithmetic-Operators).\n"
   ]
  },
  {
   "cell_type": "markdown",
   "metadata": {},
   "source": [
    "### Data structures"
   ]
  },
  {
   "cell_type": "markdown",
   "metadata": {},
   "source": [
    "Some operations are only applicable to certain data types (e.g., the `*` function for concatanating strings has a different meaning to numerical values). If you are confused about the data type of a variable:"
   ]
  },
  {
   "cell_type": "markdown",
   "metadata": {},
   "source": [
    "**String**"
   ]
  },
  {
   "cell_type": "code",
   "execution_count": 36,
   "metadata": {},
   "outputs": [
    {
     "data": {
      "text/plain": [
       "String"
      ]
     },
     "execution_count": 36,
     "metadata": {},
     "output_type": "execute_result"
    }
   ],
   "source": [
    "typeof(text)"
   ]
  },
  {
   "cell_type": "markdown",
   "metadata": {},
   "source": [
    "**Interger**"
   ]
  },
  {
   "cell_type": "markdown",
   "metadata": {},
   "source": [
    "To save memories, you can define the length of a number:"
   ]
  },
  {
   "cell_type": "code",
   "execution_count": 37,
   "metadata": {},
   "outputs": [
    {
     "name": "stdout",
     "output_type": "stream",
     "text": [
      "Int8\n",
      "Int128\n"
     ]
    }
   ],
   "source": [
    "number_a::Int8 = 60;\n",
    "println(typeof(number_a))\n",
    "\n",
    "number_b::Int128 = 60;\n",
    "println(typeof(number_b))"
   ]
  },
  {
   "cell_type": "markdown",
   "metadata": {},
   "source": [
    "By default, it's 64:"
   ]
  },
  {
   "cell_type": "code",
   "execution_count": 38,
   "metadata": {},
   "outputs": [
    {
     "name": "stdout",
     "output_type": "stream",
     "text": [
      "Int64\n"
     ]
    }
   ],
   "source": [
    "number_c = 60;\n",
    "println(typeof(number_c))"
   ]
  },
  {
   "cell_type": "markdown",
   "metadata": {},
   "source": [
    "**Float**"
   ]
  },
  {
   "cell_type": "code",
   "execution_count": 39,
   "metadata": {},
   "outputs": [
    {
     "name": "stdout",
     "output_type": "stream",
     "text": [
      "Float64\n"
     ]
    }
   ],
   "source": [
    "number_d = 1.27\n",
    "\n",
    "println(typeof(number_d))"
   ]
  },
  {
   "cell_type": "markdown",
   "metadata": {},
   "source": [
    "What would happen if an `int` is multiplied by a `float`?"
   ]
  },
  {
   "cell_type": "code",
   "execution_count": 40,
   "metadata": {},
   "outputs": [
    {
     "name": "stdout",
     "output_type": "stream",
     "text": [
      "Float64\n"
     ]
    }
   ],
   "source": [
    "println(typeof(number_a * number_d))"
   ]
  },
  {
   "cell_type": "markdown",
   "metadata": {},
   "source": [
    "Julia also has a dynamic type system."
   ]
  },
  {
   "cell_type": "markdown",
   "metadata": {},
   "source": [
    "**Vector (List / Array)**"
   ]
  },
  {
   "cell_type": "code",
   "execution_count": 41,
   "metadata": {},
   "outputs": [
    {
     "name": "stdout",
     "output_type": "stream",
     "text": [
      "Vector{String}\n"
     ]
    }
   ],
   "source": [
    "list_a = [\"a\", \"b\", \"c\"]\n",
    "\n",
    "println(typeof(list_a))"
   ]
  },
  {
   "cell_type": "markdown",
   "metadata": {},
   "source": [
    "A vector can be indexed by an integer:"
   ]
  },
  {
   "cell_type": "code",
   "execution_count": 42,
   "metadata": {},
   "outputs": [
    {
     "data": {
      "text/plain": [
       "\"a\""
      ]
     },
     "execution_count": 42,
     "metadata": {},
     "output_type": "execute_result"
    }
   ],
   "source": [
    "list_a[1]"
   ]
  },
  {
   "cell_type": "markdown",
   "metadata": {},
   "source": [
    "Or a vector:"
   ]
  },
  {
   "cell_type": "code",
   "execution_count": 43,
   "metadata": {},
   "outputs": [
    {
     "data": {
      "text/plain": [
       "2-element Vector{String}:\n",
       " \"a\"\n",
       " \"b\""
      ]
     },
     "execution_count": 43,
     "metadata": {},
     "output_type": "execute_result"
    }
   ],
   "source": [
    "list_a[[1, 2]]"
   ]
  },
  {
   "cell_type": "markdown",
   "metadata": {},
   "source": [
    "**Tuples**"
   ]
  },
  {
   "cell_type": "code",
   "execution_count": 44,
   "metadata": {},
   "outputs": [
    {
     "name": "stdout",
     "output_type": "stream",
     "text": [
      "Tuple{String, String, String}\n"
     ]
    }
   ],
   "source": [
    "brands = (\"Apple\", \"Samsung\", \"Google\")\n",
    "\n",
    "println(typeof(brands))"
   ]
  },
  {
   "cell_type": "markdown",
   "metadata": {},
   "source": [
    "A tuple can be indexed by an integer:"
   ]
  },
  {
   "cell_type": "code",
   "execution_count": 45,
   "metadata": {},
   "outputs": [
    {
     "data": {
      "text/plain": [
       "\"Apple\""
      ]
     },
     "execution_count": 45,
     "metadata": {},
     "output_type": "execute_result"
    }
   ],
   "source": [
    "brands[1]"
   ]
  },
  {
   "cell_type": "markdown",
   "metadata": {},
   "source": [
    "Or a vector:"
   ]
  },
  {
   "cell_type": "code",
   "execution_count": 46,
   "metadata": {},
   "outputs": [
    {
     "data": {
      "text/plain": [
       "(\"Apple\", \"Samsung\")"
      ]
     },
     "execution_count": 46,
     "metadata": {},
     "output_type": "execute_result"
    }
   ],
   "source": [
    "brands[[1, 2]]"
   ]
  },
  {
   "cell_type": "markdown",
   "metadata": {},
   "source": [
    "To quickly create a vector composing of a continuous integers for indexing:"
   ]
  },
  {
   "cell_type": "code",
   "execution_count": 47,
   "metadata": {},
   "outputs": [
    {
     "data": {
      "text/plain": [
       "(\"Apple\", \"Samsung\", \"Google\")"
      ]
     },
     "execution_count": 47,
     "metadata": {},
     "output_type": "execute_result"
    }
   ],
   "source": [
    "brands[1:3]"
   ]
  },
  {
   "cell_type": "markdown",
   "metadata": {},
   "source": [
    "Because `1:3` has created a vector-like range:"
   ]
  },
  {
   "cell_type": "code",
   "execution_count": 48,
   "metadata": {},
   "outputs": [
    {
     "name": "stdout",
     "output_type": "stream",
     "text": [
      "UnitRange{Int64}\n"
     ]
    }
   ],
   "source": [
    "println(typeof(1:3))"
   ]
  },
  {
   "cell_type": "markdown",
   "metadata": {},
   "source": [
    "**Dictionary**"
   ]
  },
  {
   "cell_type": "code",
   "execution_count": 49,
   "metadata": {},
   "outputs": [
    {
     "name": "stdout",
     "output_type": "stream",
     "text": [
      "Dict{String, Int64}\n"
     ]
    }
   ],
   "source": [
    "scores_a = Dict(\n",
    "  \"John\" => 98,\n",
    "  \"Jessy\" => 99\n",
    ")\n",
    "\n",
    "println(typeof(scores_a))"
   ]
  },
  {
   "cell_type": "markdown",
   "metadata": {},
   "source": [
    "The dictionary can be retrieved by its key:"
   ]
  },
  {
   "cell_type": "code",
   "execution_count": 50,
   "metadata": {},
   "outputs": [
    {
     "data": {
      "text/plain": [
       "98"
      ]
     },
     "execution_count": 50,
     "metadata": {},
     "output_type": "execute_result"
    }
   ],
   "source": [
    "scores_a[\"John\"]"
   ]
  },
  {
   "cell_type": "markdown",
   "metadata": {},
   "source": [
    "And the value can be changed:"
   ]
  },
  {
   "cell_type": "code",
   "execution_count": 51,
   "metadata": {},
   "outputs": [
    {
     "data": {
      "text/plain": [
       "Dict{String, Int64} with 2 entries:\n",
       "  \"John\"  => 30\n",
       "  \"Jessy\" => 99"
      ]
     },
     "execution_count": 51,
     "metadata": {},
     "output_type": "execute_result"
    }
   ],
   "source": [
    "scores_a[\"John\"] = 30\n",
    "scores_a"
   ]
  },
  {
   "cell_type": "markdown",
   "metadata": {},
   "source": [
    "## Using Packages"
   ]
  },
  {
   "cell_type": "markdown",
   "metadata": {},
   "source": [
    "In many cases, we need to import many packages to finish diverse tasks. For example, we use `ggplot2` in R to create beautiful figures.\n",
    "\n",
    "In Julia, the workflow is like what we have in R (you can also use [my package to simplify the same process in Python](https://github.com/reycn/pkgman))."
   ]
  },
  {
   "cell_type": "code",
   "execution_count": 52,
   "metadata": {},
   "outputs": [
    {
     "name": "stderr",
     "output_type": "stream",
     "text": [
      "\u001b[32m\u001b[1m   Resolving\u001b[22m\u001b[39m package versions...\n",
      "\u001b[32m\u001b[1m  No Changes\u001b[22m\u001b[39m to `~/.julia/environments/v1.11/Project.toml`\n",
      "\u001b[32m\u001b[1m  No Changes\u001b[22m\u001b[39m to `~/.julia/environments/v1.11/Manifest.toml`\n"
     ]
    }
   ],
   "source": [
    "using Pkg;\n",
    "Pkg.add(\"JSON\");"
   ]
  },
  {
   "cell_type": "markdown",
   "metadata": {},
   "source": [
    "Then, when a package is installed, you need to claim to use it before using:"
   ]
  },
  {
   "cell_type": "code",
   "execution_count": 53,
   "metadata": {},
   "outputs": [],
   "source": [
    "using JSON"
   ]
  },
  {
   "cell_type": "markdown",
   "metadata": {},
   "source": [
    "After that, you are able to use methods of a package such as `JSON.parsefile(\"some.json\")` here"
   ]
  },
  {
   "cell_type": "markdown",
   "metadata": {},
   "source": [
    "## Functions and methods"
   ]
  },
  {
   "cell_type": "markdown",
   "metadata": {},
   "source": [
    "To define a function:"
   ]
  },
  {
   "cell_type": "code",
   "execution_count": null,
   "metadata": {},
   "outputs": [],
   "source": [
    "function greet(name)\n",
    "    \"Hello, $name.\"\n",
    "end;"
   ]
  },
  {
   "cell_type": "code",
   "execution_count": 55,
   "metadata": {},
   "outputs": [
    {
     "data": {
      "text/plain": [
       "\"Hello, Jessy.\""
      ]
     },
     "execution_count": 55,
     "metadata": {},
     "output_type": "execute_result"
    }
   ],
   "source": [
    "greet(\"Jessy\")"
   ]
  },
  {
   "cell_type": "markdown",
   "metadata": {},
   "source": [
    "To use a method defined globally, such as `println`, just call it."
   ]
  },
  {
   "cell_type": "markdown",
   "metadata": {},
   "source": [
    "If it's from a package, use `package.method`, e.g., `JSON.parsefile(\"some.json\")` we've mentioned."
   ]
  },
  {
   "cell_type": "markdown",
   "metadata": {},
   "source": [
    "\n",
    "Great! Let's move on to [load your data](./1.data.loading.selection.jl.ipynb) first.\n"
   ]
  }
 ],
 "metadata": {
  "kernelspec": {
   "display_name": "Julia (4 threads) 1.11.4",
   "language": "julia",
   "name": "julia-_4-threads_-1.11"
  },
  "language_info": {
   "file_extension": ".jl",
   "mimetype": "application/julia",
   "name": "julia",
   "version": "1.11.4"
  }
 },
 "nbformat": 4,
 "nbformat_minor": 2
}
