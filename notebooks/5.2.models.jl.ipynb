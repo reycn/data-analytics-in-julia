{
 "cells": [
  {
   "cell_type": "markdown",
   "metadata": {},
   "source": [
    "# Chatpter 5 (cont.). Advanced Causal Inference in Julia"
   ]
  },
  {
   "cell_type": "code",
   "execution_count": 1,
   "metadata": {},
   "outputs": [
    {
     "name": "stderr",
     "output_type": "stream",
     "text": [
      "\u001b[32m\u001b[1m   Resolving\u001b[22m\u001b[39m package versions...\n",
      "\u001b[32m\u001b[1m  No Changes\u001b[22m\u001b[39m to `~/.julia/environments/v1.11/Project.toml`\n",
      "\u001b[32m\u001b[1m  No Changes\u001b[22m\u001b[39m to `~/.julia/environments/v1.11/Manifest.toml`\n"
     ]
    }
   ],
   "source": [
    "import Pkg;\n",
    "Pkg.add([\"DiffinDiffs\", \"RegressionDiscontinuity\", \"SynthControl\", \"Dates\", \"Plots\"]);"
   ]
  },
  {
   "cell_type": "markdown",
   "metadata": {},
   "source": [
    "## Instrumental Variable"
   ]
  },
  {
   "cell_type": "code",
   "execution_count": 2,
   "metadata": {},
   "outputs": [
    {
     "data": {
      "text/html": [
       "<div><div style = \"float: left;\"><span>5×9 DataFrame</span></div><div style = \"clear: both;\"></div></div><div class = \"data-frame\" style = \"overflow-x: scroll;\"><table class = \"data-frame\" style = \"margin-bottom: 6px;\"><thead><tr class = \"header\"><th class = \"rowNumber\" style = \"font-weight: bold; text-align: right;\">Row</th><th style = \"text-align: left;\">State</th><th style = \"text-align: left;\">Year</th><th style = \"text-align: left;\">Price</th><th style = \"text-align: left;\">Pop</th><th style = \"text-align: left;\">Pop16</th><th style = \"text-align: left;\">CPI</th><th style = \"text-align: left;\">NDI</th><th style = \"text-align: left;\">Sales</th><th style = \"text-align: left;\">Pimin</th></tr><tr class = \"subheader headerLastRow\"><th class = \"rowNumber\" style = \"font-weight: bold; text-align: right;\"></th><th title = \"Int64\" style = \"text-align: left;\">Int64</th><th title = \"Int64\" style = \"text-align: left;\">Int64</th><th title = \"Float64\" style = \"text-align: left;\">Float64</th><th title = \"Float64\" style = \"text-align: left;\">Float64</th><th title = \"Float64\" style = \"text-align: left;\">Float64</th><th title = \"Float64\" style = \"text-align: left;\">Float64</th><th title = \"Float64\" style = \"text-align: left;\">Float64</th><th title = \"Float64\" style = \"text-align: left;\">Float64</th><th title = \"Float64\" style = \"text-align: left;\">Float64</th></tr></thead><tbody><tr><td class = \"rowNumber\" style = \"font-weight: bold; text-align: right;\">1</td><td style = \"text-align: right;\">1</td><td style = \"text-align: right;\">63</td><td style = \"text-align: right;\">28.6</td><td style = \"text-align: right;\">3383.0</td><td style = \"text-align: right;\">2236.5</td><td style = \"text-align: right;\">30.6</td><td style = \"text-align: right;\">1558.3</td><td style = \"text-align: right;\">93.9</td><td style = \"text-align: right;\">26.1</td></tr><tr><td class = \"rowNumber\" style = \"font-weight: bold; text-align: right;\">2</td><td style = \"text-align: right;\">1</td><td style = \"text-align: right;\">64</td><td style = \"text-align: right;\">29.8</td><td style = \"text-align: right;\">3431.0</td><td style = \"text-align: right;\">2276.7</td><td style = \"text-align: right;\">31.0</td><td style = \"text-align: right;\">1684.07</td><td style = \"text-align: right;\">95.4</td><td style = \"text-align: right;\">27.5</td></tr><tr><td class = \"rowNumber\" style = \"font-weight: bold; text-align: right;\">3</td><td style = \"text-align: right;\">1</td><td style = \"text-align: right;\">65</td><td style = \"text-align: right;\">29.8</td><td style = \"text-align: right;\">3486.0</td><td style = \"text-align: right;\">2327.5</td><td style = \"text-align: right;\">31.5</td><td style = \"text-align: right;\">1809.84</td><td style = \"text-align: right;\">98.5</td><td style = \"text-align: right;\">28.9</td></tr><tr><td class = \"rowNumber\" style = \"font-weight: bold; text-align: right;\">4</td><td style = \"text-align: right;\">1</td><td style = \"text-align: right;\">66</td><td style = \"text-align: right;\">31.5</td><td style = \"text-align: right;\">3524.0</td><td style = \"text-align: right;\">2369.7</td><td style = \"text-align: right;\">32.4</td><td style = \"text-align: right;\">1915.16</td><td style = \"text-align: right;\">96.4</td><td style = \"text-align: right;\">29.5</td></tr><tr><td class = \"rowNumber\" style = \"font-weight: bold; text-align: right;\">5</td><td style = \"text-align: right;\">1</td><td style = \"text-align: right;\">67</td><td style = \"text-align: right;\">31.6</td><td style = \"text-align: right;\">3533.0</td><td style = \"text-align: right;\">2393.7</td><td style = \"text-align: right;\">33.4</td><td style = \"text-align: right;\">2023.55</td><td style = \"text-align: right;\">95.5</td><td style = \"text-align: right;\">29.6</td></tr></tbody></table></div>"
      ],
      "text/latex": [
       "\\begin{tabular}{r|ccccccccc}\n",
       "\t& State & Year & Price & Pop & Pop16 & CPI & NDI & Sales & Pimin\\\\\n",
       "\t\\hline\n",
       "\t& Int64 & Int64 & Float64 & Float64 & Float64 & Float64 & Float64 & Float64 & Float64\\\\\n",
       "\t\\hline\n",
       "\t1 & 1 & 63 & 28.6 & 3383.0 & 2236.5 & 30.6 & 1558.3 & 93.9 & 26.1 \\\\\n",
       "\t2 & 1 & 64 & 29.8 & 3431.0 & 2276.7 & 31.0 & 1684.07 & 95.4 & 27.5 \\\\\n",
       "\t3 & 1 & 65 & 29.8 & 3486.0 & 2327.5 & 31.5 & 1809.84 & 98.5 & 28.9 \\\\\n",
       "\t4 & 1 & 66 & 31.5 & 3524.0 & 2369.7 & 32.4 & 1915.16 & 96.4 & 29.5 \\\\\n",
       "\t5 & 1 & 67 & 31.6 & 3533.0 & 2393.7 & 33.4 & 2023.55 & 95.5 & 29.6 \\\\\n",
       "\\end{tabular}\n"
      ],
      "text/plain": [
       "\u001b[1m5×9 DataFrame\u001b[0m\n",
       "\u001b[1m Row \u001b[0m│\u001b[1m State \u001b[0m\u001b[1m Year  \u001b[0m\u001b[1m Price   \u001b[0m\u001b[1m Pop     \u001b[0m\u001b[1m Pop16   \u001b[0m\u001b[1m CPI     \u001b[0m\u001b[1m NDI     \u001b[0m\u001b[1m Sales   \u001b[0m\u001b[1m Pim\u001b[0m ⋯\n",
       "     │\u001b[90m Int64 \u001b[0m\u001b[90m Int64 \u001b[0m\u001b[90m Float64 \u001b[0m\u001b[90m Float64 \u001b[0m\u001b[90m Float64 \u001b[0m\u001b[90m Float64 \u001b[0m\u001b[90m Float64 \u001b[0m\u001b[90m Float64 \u001b[0m\u001b[90m Flo\u001b[0m ⋯\n",
       "─────┼──────────────────────────────────────────────────────────────────────────\n",
       "   1 │     1     63     28.6   3383.0   2236.5     30.6  1558.3      93.9      ⋯\n",
       "   2 │     1     64     29.8   3431.0   2276.7     31.0  1684.07     95.4\n",
       "   3 │     1     65     29.8   3486.0   2327.5     31.5  1809.84     98.5\n",
       "   4 │     1     66     31.5   3524.0   2369.7     32.4  1915.16     96.4\n",
       "   5 │     1     67     31.6   3533.0   2393.7     33.4  2023.55     95.5      ⋯\n",
       "\u001b[36m                                                                1 column omitted\u001b[0m"
      ]
     },
     "execution_count": 2,
     "metadata": {},
     "output_type": "execute_result"
    }
   ],
   "source": [
    "using DataFrames, RDatasets, FixedEffectModels\n",
    "df = dataset(\"plm\", \"Cigar\")\n",
    "first(df, 5)"
   ]
  },
  {
   "cell_type": "markdown",
   "metadata": {},
   "source": [
    "For example, if we have an instrumental variable `Price` predicting `CPI` which predicts `Sales` (theoretically incorrect, just for illustration), the formula here should be:"
   ]
  },
  {
   "cell_type": "code",
   "execution_count": 3,
   "metadata": {},
   "outputs": [
    {
     "data": {
      "text/plain": [
       "                           FixedEffectModel                           \n",
       "=======================================================================\n",
       "Number of obs:                1380   Converged:                    true\n",
       "dof (model):                     2   dof (residuals):              1333\n",
       "R²:                         -0.327   R² adjusted:                -0.373\n",
       "F-statistic:                42.695   P-value:                     0.000\n",
       "F-statistic (first stage): 39.4447   P-value (first stage):       0.000\n",
       "R² within:                  -3.259   Iterations:                      1\n",
       "=======================================================================\n",
       "       Estimate  Std. Error    t-stat  Pr(>|t|)   Lower 95%   Upper 95%\n",
       "───────────────────────────────────────────────────────────────────────\n",
       "NDI   0.0271309  0.00634835   4.2737     <1e-04   0.0146771   0.0395848\n",
       "CPI  -3.71621    0.817692    -4.54475    <1e-05  -5.32031    -2.1121\n",
       "=======================================================================\n"
      ]
     },
     "execution_count": 3,
     "metadata": {},
     "output_type": "execute_result"
    }
   ],
   "source": [
    "#  DV ~ exogenous variables + (endogenous variables ~ instrumental variables) + fe(fixedeffect variable)\n",
    "reg(df, @formula(Sales ~ NDI + (CPI ~ Price ) + fe(State)))"
   ]
  },
  {
   "cell_type": "markdown",
   "metadata": {},
   "source": [
    "## Difference-in-difference"
   ]
  },
  {
   "cell_type": "code",
   "execution_count": 4,
   "metadata": {},
   "outputs": [
    {
     "data": {
      "text/plain": [
       "3280×11 VecColumnTable:\n",
       "\u001b[1m  Row \u001b[0m│\u001b[1m hhidpn \u001b[0m\u001b[1m  wave \u001b[0m\u001b[1m wave_hosp \u001b[0m\u001b[1m oop_spend \u001b[0m\u001b[1m riearnsemp \u001b[0m\u001b[1m rwthh \u001b[0m\u001b[1m  male \u001b[0m\u001b[1m spouse \u001b[0m\u001b[1m\u001b[0m ⋯\n",
       "      │\u001b[90m  Int64 \u001b[0m\u001b[90m Int64 \u001b[0m\u001b[90m     Int64 \u001b[0m\u001b[90m   Float64 \u001b[0m\u001b[90m    Float64 \u001b[0m\u001b[90m Int64 \u001b[0m\u001b[90m Int64 \u001b[0m\u001b[90m  Int64 \u001b[0m\u001b[90m\u001b[0m ⋯\n",
       "──────┼─────────────────────────────────────────────────────────────────────────\n",
       "    1 │      1     10         10    6532.91   6.37159e5   4042      0       0  ⋯\n",
       "    2 │      1      8         10    1326.93   3.67451e5   3975      0       0  ⋯\n",
       "    3 │      1     11         10    1050.33     74130.5   3976      0       0  ⋯\n",
       "    4 │      1      9         10    979.418     84757.4   3703      0       0  ⋯\n",
       "    5 │      1      7         10    5498.68   1.66128e5   5295      0       0  ⋯\n",
       "    6 │      2      8          8    41504.0         0.0   5187      0       1  ⋯\n",
       "    7 │      2      7          8    3672.86         0.0   4186      0       1  ⋯\n",
       "    8 │      2     10          8    1174.19         0.0   3729      0       1  ⋯\n",
       "    9 │      2     11          8    6909.59         0.0   3906      0       1  ⋯\n",
       "   10 │      2      9          8     1130.1         0.0   5453      0       1  ⋯\n",
       "   11 │      3      9         10    2773.45     8475.74   4419      0       1  ⋯\n",
       "  ⋮   │   ⋮       ⋮        ⋮          ⋮          ⋮         ⋮      ⋮      ⋮     ⋱\n",
       " 3270 │    654     10         10    2876.32     45511.3   4372      0       0  ⋯\n",
       " 3271 │    655      7          9    1910.74     25476.5   7682      0       1  ⋯\n",
       " 3272 │    655     11          9    12402.5     34721.6   9203      0       1  ⋯\n",
       " 3273 │    655      8          9     1530.0     45000.0   8461      0       1  ⋯\n",
       " 3274 │    655      9          9    7373.89     10359.2   9345      0       1  ⋯\n",
       " 3275 │    655     10          9    673.568     38229.5   8420      0       1  ⋯\n",
       " 3276 │    656     11          8    3020.78         0.0   1930      0       0  ⋯\n",
       " 3277 │    656      8          8     2632.0         0.0   4810      0       0  ⋯\n",
       " 3278 │    656      9          8     657.34         0.0   4768      0       0  ⋯\n",
       " 3279 │    656     10          8    782.795         0.0   1909      0       0  ⋯\n",
       " 3280 │    656      7          8    4182.39         0.0   4374      0       0  ⋯"
      ]
     },
     "execution_count": 4,
     "metadata": {},
     "output_type": "execute_result"
    }
   ],
   "source": [
    "using DiffinDiffs\n",
    "hrs = DiffinDiffsBase.exampledata(\"hrs\")"
   ]
  },
  {
   "cell_type": "code",
   "execution_count": 5,
   "metadata": {},
   "outputs": [
    {
     "data": {
      "text/plain": [
       "──────────────────────────────────────────────────────────────────────\n",
       "Summary of results: Regression-based DID\n",
       "──────────────────────────────────────────────────────────────────────\n",
       "Number of obs:               2624    Degrees of freedom:            14\n",
       "F-statistic:                 6.42    p-value:                   <1e-07\n",
       "──────────────────────────────────────────────────────────────────────\n",
       "Cohort-interacted sharp dynamic specification\n",
       "──────────────────────────────────────────────────────────────────────\n",
       "Number of cohorts:              3    Interactions within cohorts:    0\n",
       "Relative time periods:          5    Excluded periods:              -1\n",
       "──────────────────────────────────────────────────────────────────────\n",
       "Fixed effects: fe_hhidpn fe_wave\n",
       "──────────────────────────────────────────────────────────────────────\n",
       "Converged:                   true    Singletons dropped:             0\n",
       "──────────────────────────────────────────────────────────────────────"
      ]
     },
     "execution_count": 5,
     "metadata": {},
     "output_type": "execute_result"
    }
   ],
   "source": [
    "r = @did(Reg, data = hrs, dynamic(:wave, -1), notyettreated(11),\n",
    "    vce = Vcov.cluster(:hhidpn), yterm = term(:oop_spend), treatname = :wave_hosp,\n",
    "    treatintterms = (), xterms = (fe(:wave) + fe(:hhidpn)))"
   ]
  },
  {
   "cell_type": "code",
   "execution_count": 6,
   "metadata": {},
   "outputs": [
    {
     "data": {
      "text/plain": [
       "───────────────────────────────────────────────────────────────────\n",
       "         Estimate  Std. Error     t  Pr(>|t|)  Lower 95%  Upper 95%\n",
       "───────────────────────────────────────────────────────────────────\n",
       "rel: -3   591.046    1273.08   0.46    0.6425  -1905.3      3087.39\n",
       "rel: -2   352.639     697.78   0.51    0.6133  -1015.62     1720.9\n",
       "rel: 0   2960.04      540.989  5.47    <1e-07   1899.23     4020.86\n",
       "rel: 1    529.767     586.831  0.90    0.3667   -620.935    1680.47\n",
       "rel: 2    800.106    1010.81   0.79    0.4287  -1181.97     2782.18\n",
       "───────────────────────────────────────────────────────────────────"
      ]
     },
     "execution_count": 6,
     "metadata": {},
     "output_type": "execute_result"
    }
   ],
   "source": [
    "a = agg(r, :rel)"
   ]
  },
  {
   "cell_type": "markdown",
   "metadata": {},
   "source": [
    "## Regression Discontinuity"
   ]
  },
  {
   "cell_type": "code",
   "execution_count": 7,
   "metadata": {},
   "outputs": [
    {
     "data": {
      "text/plain": [
       "RDData{Vector{Float64}, RunningVariable{Float64, Float64, Vector{Float64}}}([0.0, 0.0, 0.0, 0.251144230365753, 0.23875193297862998, 0.267181247472763, 0.262862056493759, 0.0, 0.34071296453476, 0.6447104215621949  …  0.467111736536026, 0.712594926357269, 0.718958139419556, 0.791856050491333, 0.8541748523712159, 0.677568554878235, 0.808446884155273, 0.505452692508698, 1.0, 0.760513544082642], [-1.0, -1.0, -1.0, -1.0, -1.0, -1.0, -1.0, -1.0, -1.0, -1.0  …  1.0, 1.0, 1.0, 1.0, 1.0, 1.0, 1.0, 1.0, 1.0, 1.0])"
      ]
     },
     "execution_count": 7,
     "metadata": {},
     "output_type": "execute_result"
    }
   ],
   "source": [
    "using RegressionDiscontinuity\n",
    "data = RDData(RegressionDiscontinuity.Lee08())"
   ]
  },
  {
   "cell_type": "code",
   "execution_count": 8,
   "metadata": {},
   "outputs": [
    {
     "data": {
      "text/plain": [
       "Local linear regression for regression discontinuity design\n",
       "       ⋅⋅⋅⋅ Naive inference (not accounting for bias)\n",
       "       ⋅⋅⋅⋅ Rectangular kernel (U[-0.5,0.5])\n",
       "       ⋅⋅⋅⋅ Imbens Kalyanaraman bandwidth\n",
       "       ⋅⋅⋅⋅ Eicker White Huber variance\n",
       "────────────────────────────────────────────────────────────────────────────────────────────────\n",
       "                          h        τ̂         se         bias     z   p-val  Lower 95%  Upper 95%\n",
       "────────────────────────────────────────────────────────────────────────────────────────────────\n",
       "Sharp RD estimand  0.462024  0.08077  0.0087317  unaccounted  9.25  <1e-99  0.0636562  0.0978838\n",
       "────────────────────────────────────────────────────────────────────────────────────────────────"
      ]
     },
     "execution_count": 8,
     "metadata": {},
     "output_type": "execute_result"
    }
   ],
   "source": [
    "fit(NaiveLocalLinearRD(kernel=Rectangular(), bandwidth=ImbensKalyanaraman()), data.ZsR, data.Ys)"
   ]
  },
  {
   "cell_type": "markdown",
   "metadata": {},
   "source": [
    "## Synthetic Control"
   ]
  },
  {
   "cell_type": "code",
   "execution_count": 9,
   "metadata": {},
   "outputs": [
    {
     "data": {
      "text/html": [
       "<div><div style = \"float: left;\"><span>897×3 DataFrame</span></div><div style = \"float: right;\"><span style = \"font-style: italic;\">872 rows omitted</span></div><div style = \"clear: both;\"></div></div><div class = \"data-frame\" style = \"overflow-x: scroll;\"><table class = \"data-frame\" style = \"margin-bottom: 6px;\"><thead><tr class = \"header\"><th class = \"rowNumber\" style = \"font-weight: bold; text-align: right;\">Row</th><th style = \"text-align: left;\">country</th><th style = \"text-align: left;\">quarter</th><th style = \"text-align: left;\">realgdp</th></tr><tr class = \"subheader headerLastRow\"><th class = \"rowNumber\" style = \"font-weight: bold; text-align: right;\"></th><th title = \"String\" style = \"text-align: left;\">String</th><th title = \"Date\" style = \"text-align: left;\">Date</th><th title = \"Float64\" style = \"text-align: left;\">Float64</th></tr></thead><tbody><tr><td class = \"rowNumber\" style = \"font-weight: bold; text-align: right;\">1</td><td style = \"text-align: left;\">Australia</td><td style = \"text-align: left;\">2009-01-01</td><td style = \"text-align: right;\">1.04</td></tr><tr><td class = \"rowNumber\" style = \"font-weight: bold; text-align: right;\">2</td><td style = \"text-align: left;\">Austria</td><td style = \"text-align: left;\">2009-01-01</td><td style = \"text-align: right;\">-1.53</td></tr><tr><td class = \"rowNumber\" style = \"font-weight: bold; text-align: right;\">3</td><td style = \"text-align: left;\">Belgium</td><td style = \"text-align: left;\">2009-01-01</td><td style = \"text-align: right;\">-1.15</td></tr><tr><td class = \"rowNumber\" style = \"font-weight: bold; text-align: right;\">4</td><td style = \"text-align: left;\">Canada</td><td style = \"text-align: left;\">2009-01-01</td><td style = \"text-align: right;\">-2.28</td></tr><tr><td class = \"rowNumber\" style = \"font-weight: bold; text-align: right;\">5</td><td style = \"text-align: left;\">Denmark</td><td style = \"text-align: left;\">2009-01-01</td><td style = \"text-align: right;\">-1.42</td></tr><tr><td class = \"rowNumber\" style = \"font-weight: bold; text-align: right;\">6</td><td style = \"text-align: left;\">Finland</td><td style = \"text-align: left;\">2009-01-01</td><td style = \"text-align: right;\">-6.8</td></tr><tr><td class = \"rowNumber\" style = \"font-weight: bold; text-align: right;\">7</td><td style = \"text-align: left;\">France</td><td style = \"text-align: left;\">2009-01-01</td><td style = \"text-align: right;\">-1.67</td></tr><tr><td class = \"rowNumber\" style = \"font-weight: bold; text-align: right;\">8</td><td style = \"text-align: left;\">Germany</td><td style = \"text-align: left;\">2009-01-01</td><td style = \"text-align: right;\">-4.49</td></tr><tr><td class = \"rowNumber\" style = \"font-weight: bold; text-align: right;\">9</td><td style = \"text-align: left;\">Greece</td><td style = \"text-align: left;\">2009-01-01</td><td style = \"text-align: right;\">-4.74</td></tr><tr><td class = \"rowNumber\" style = \"font-weight: bold; text-align: right;\">10</td><td style = \"text-align: left;\">Iceland</td><td style = \"text-align: left;\">2009-01-01</td><td style = \"text-align: right;\">-7.61</td></tr><tr><td class = \"rowNumber\" style = \"font-weight: bold; text-align: right;\">11</td><td style = \"text-align: left;\">Ireland</td><td style = \"text-align: left;\">2009-01-01</td><td style = \"text-align: right;\">-0.34</td></tr><tr><td class = \"rowNumber\" style = \"font-weight: bold; text-align: right;\">12</td><td style = \"text-align: left;\">Italy</td><td style = \"text-align: left;\">2009-01-01</td><td style = \"text-align: right;\">-2.75</td></tr><tr><td class = \"rowNumber\" style = \"font-weight: bold; text-align: right;\">13</td><td style = \"text-align: left;\">Japan</td><td style = \"text-align: left;\">2009-01-01</td><td style = \"text-align: right;\">-4.88</td></tr><tr><td style = \"text-align: right;\">&vellip;</td><td style = \"text-align: right;\">&vellip;</td><td style = \"text-align: right;\">&vellip;</td><td style = \"text-align: right;\">&vellip;</td></tr><tr><td class = \"rowNumber\" style = \"font-weight: bold; text-align: right;\">886</td><td style = \"text-align: left;\">Italy</td><td style = \"text-align: left;\">2018-07-01</td><td style = \"text-align: right;\">-0.82</td></tr><tr><td class = \"rowNumber\" style = \"font-weight: bold; text-align: right;\">887</td><td style = \"text-align: left;\">Japan</td><td style = \"text-align: left;\">2018-07-01</td><td style = \"text-align: right;\">9.54</td></tr><tr><td class = \"rowNumber\" style = \"font-weight: bold; text-align: right;\">888</td><td style = \"text-align: left;\">Luxembourg</td><td style = \"text-align: left;\">2018-07-01</td><td style = \"text-align: right;\">28.41</td></tr><tr><td class = \"rowNumber\" style = \"font-weight: bold; text-align: right;\">889</td><td style = \"text-align: left;\">Netherlands</td><td style = \"text-align: left;\">2018-07-01</td><td style = \"text-align: right;\">10.69</td></tr><tr><td class = \"rowNumber\" style = \"font-weight: bold; text-align: right;\">890</td><td style = \"text-align: left;\">New Zealand</td><td style = \"text-align: left;\">2018-07-01</td><td style = \"text-align: right;\">24.06</td></tr><tr><td class = \"rowNumber\" style = \"font-weight: bold; text-align: right;\">891</td><td style = \"text-align: left;\">Norway</td><td style = \"text-align: left;\">2018-07-01</td><td style = \"text-align: right;\">12.82</td></tr><tr><td class = \"rowNumber\" style = \"font-weight: bold; text-align: right;\">892</td><td style = \"text-align: left;\">Portugal</td><td style = \"text-align: left;\">2018-07-01</td><td style = \"text-align: right;\">2.23</td></tr><tr><td class = \"rowNumber\" style = \"font-weight: bold; text-align: right;\">893</td><td style = \"text-align: left;\">Spain</td><td style = \"text-align: left;\">2018-07-01</td><td style = \"text-align: right;\">5.74</td></tr><tr><td class = \"rowNumber\" style = \"font-weight: bold; text-align: right;\">894</td><td style = \"text-align: left;\">Sweden</td><td style = \"text-align: left;\">2018-07-01</td><td style = \"text-align: right;\">22.48</td></tr><tr><td class = \"rowNumber\" style = \"font-weight: bold; text-align: right;\">895</td><td style = \"text-align: left;\">Switzerland</td><td style = \"text-align: left;\">2018-07-01</td><td style = \"text-align: right;\">14.35</td></tr><tr><td class = \"rowNumber\" style = \"font-weight: bold; text-align: right;\">896</td><td style = \"text-align: left;\">United Kingdom</td><td style = \"text-align: left;\">2018-07-01</td><td style = \"text-align: right;\">15.72</td></tr><tr><td class = \"rowNumber\" style = \"font-weight: bold; text-align: right;\">897</td><td style = \"text-align: left;\">United States</td><td style = \"text-align: left;\">2018-07-01</td><td style = \"text-align: right;\">19.32</td></tr></tbody></table></div>"
      ],
      "text/latex": [
       "\\begin{tabular}{r|ccc}\n",
       "\t& country & quarter & realgdp\\\\\n",
       "\t\\hline\n",
       "\t& String & Date & Float64\\\\\n",
       "\t\\hline\n",
       "\t1 & Australia & 2009-01-01 & 1.04 \\\\\n",
       "\t2 & Austria & 2009-01-01 & -1.53 \\\\\n",
       "\t3 & Belgium & 2009-01-01 & -1.15 \\\\\n",
       "\t4 & Canada & 2009-01-01 & -2.28 \\\\\n",
       "\t5 & Denmark & 2009-01-01 & -1.42 \\\\\n",
       "\t6 & Finland & 2009-01-01 & -6.8 \\\\\n",
       "\t7 & France & 2009-01-01 & -1.67 \\\\\n",
       "\t8 & Germany & 2009-01-01 & -4.49 \\\\\n",
       "\t9 & Greece & 2009-01-01 & -4.74 \\\\\n",
       "\t10 & Iceland & 2009-01-01 & -7.61 \\\\\n",
       "\t11 & Ireland & 2009-01-01 & -0.34 \\\\\n",
       "\t12 & Italy & 2009-01-01 & -2.75 \\\\\n",
       "\t13 & Japan & 2009-01-01 & -4.88 \\\\\n",
       "\t14 & Luxembourg & 2009-01-01 & -0.68 \\\\\n",
       "\t15 & Netherlands & 2009-01-01 & -3.17 \\\\\n",
       "\t16 & New Zealand & 2009-01-01 & -1.18 \\\\\n",
       "\t17 & Norway & 2009-01-01 & -0.81 \\\\\n",
       "\t18 & Portugal & 2009-01-01 & -2.3 \\\\\n",
       "\t19 & Spain & 2009-01-01 & -1.6 \\\\\n",
       "\t20 & Sweden & 2009-01-01 & -2.52 \\\\\n",
       "\t21 & Switzerland & 2009-01-01 & -1.55 \\\\\n",
       "\t22 & United Kingdom & 2009-01-01 & -1.6 \\\\\n",
       "\t23 & United States & 2009-01-01 & -1.39 \\\\\n",
       "\t24 & Australia & 2009-04-01 & 1.61 \\\\\n",
       "\t25 & Austria & 2009-04-01 & -2.56 \\\\\n",
       "\t26 & Belgium & 2009-04-01 & -1.26 \\\\\n",
       "\t27 & Canada & 2009-04-01 & -3.39 \\\\\n",
       "\t28 & Denmark & 2009-04-01 & -3.36 \\\\\n",
       "\t29 & Finland & 2009-04-01 & -7.35 \\\\\n",
       "\t30 & France & 2009-04-01 & -1.83 \\\\\n",
       "\t$\\dots$ & $\\dots$ & $\\dots$ & $\\dots$ \\\\\n",
       "\\end{tabular}\n"
      ],
      "text/plain": [
       "\u001b[1m897×3 DataFrame\u001b[0m\n",
       "\u001b[1m Row \u001b[0m│\u001b[1m country        \u001b[0m\u001b[1m quarter    \u001b[0m\u001b[1m realgdp \u001b[0m\n",
       "     │\u001b[90m String         \u001b[0m\u001b[90m Date       \u001b[0m\u001b[90m Float64 \u001b[0m\n",
       "─────┼─────────────────────────────────────\n",
       "   1 │ Australia       2009-01-01     1.04\n",
       "   2 │ Austria         2009-01-01    -1.53\n",
       "   3 │ Belgium         2009-01-01    -1.15\n",
       "   4 │ Canada          2009-01-01    -2.28\n",
       "   5 │ Denmark         2009-01-01    -1.42\n",
       "   6 │ Finland         2009-01-01    -6.8\n",
       "   7 │ France          2009-01-01    -1.67\n",
       "   8 │ Germany         2009-01-01    -4.49\n",
       "   9 │ Greece          2009-01-01    -4.74\n",
       "  10 │ Iceland         2009-01-01    -7.61\n",
       "  11 │ Ireland         2009-01-01    -0.34\n",
       "  ⋮  │       ⋮             ⋮          ⋮\n",
       " 888 │ Luxembourg      2018-07-01    28.41\n",
       " 889 │ Netherlands     2018-07-01    10.69\n",
       " 890 │ New Zealand     2018-07-01    24.06\n",
       " 891 │ Norway          2018-07-01    12.82\n",
       " 892 │ Portugal        2018-07-01     2.23\n",
       " 893 │ Spain           2018-07-01     5.74\n",
       " 894 │ Sweden          2018-07-01    22.48\n",
       " 895 │ Switzerland     2018-07-01    14.35\n",
       " 896 │ United Kingdom  2018-07-01    15.72\n",
       " 897 │ United States   2018-07-01    19.32\n",
       "\u001b[36m                           876 rows omitted\u001b[0m"
      ]
     },
     "execution_count": 9,
     "metadata": {},
     "output_type": "execute_result"
    }
   ],
   "source": [
    "using SynthControl, Dates\n",
    "df = load_brexit()"
   ]
  },
  {
   "cell_type": "code",
   "execution_count": 10,
   "metadata": {},
   "outputs": [
    {
     "name": "stdout",
     "output_type": "stream",
     "text": [
      "Balanced Panel - single treated unit, continuous treatment\n"
     ]
    },
    {
     "data": {
      "text/plain": []
     },
     "execution_count": 10,
     "metadata": {},
     "output_type": "execute_result"
    },
    {
     "name": "stdout",
     "output_type": "stream",
     "text": [
      "    Treated unit: United Kingdom\n",
      "    Number of untreated units: 22\n",
      "    First treatment period: 2016-07-01\n",
      "    Number of pretreatment periods: 30\n",
      "    Number of treatment periods: 9\n"
     ]
    }
   ],
   "source": [
    "bp = BalancedPanel(df, \"United Kingdom\" => Date(2016, 7, 1); id_var = :country, t_var = :quarter, outcome_var = :realgdp)"
   ]
  },
  {
   "cell_type": "code",
   "execution_count": 11,
   "metadata": {},
   "outputs": [
    {
     "data": {
      "text/plain": []
     },
     "metadata": {},
     "output_type": "display_data"
    },
    {
     "data": {
      "text/plain": [
       "Synthetic Control Model\n",
       "\n",
       "Treatment panel:\n",
       "\n",
       "Model is not fitted\n"
      ]
     },
     "execution_count": 11,
     "metadata": {},
     "output_type": "execute_result"
    },
    {
     "name": "stdout",
     "output_type": "stream",
     "text": [
      "Balanced Panel - single treated unit, continuous treatment\n",
      "    Treated unit: United Kingdom\n",
      "    Number of untreated units: 22\n",
      "    First treatment period: 2016-07-01\n",
      "    Number of pretreatment periods: 30\n",
      "    Number of treatment periods: 9\n"
     ]
    }
   ],
   "source": [
    "s = SimpleSCM(bp)"
   ]
  },
  {
   "cell_type": "code",
   "execution_count": 12,
   "metadata": {},
   "outputs": [
    {
     "data": {
      "text/plain": []
     },
     "metadata": {},
     "output_type": "display_data"
    },
    {
     "data": {
      "text/plain": [
       "Synthetic Control Model\n",
       "\n",
       "Treatment panel:\n",
       "\tModel is fitted\n",
       "\tImpact estimates: [-0.54, -0.31, -0.206, -0.732, -1.241, -1.482, -1.818, -2.327, -1.994]\n"
      ]
     },
     "execution_count": 12,
     "metadata": {},
     "output_type": "execute_result"
    },
    {
     "name": "stdout",
     "output_type": "stream",
     "text": [
      "Balanced Panel - single treated unit, continuous treatment\n",
      "    Treated unit: United Kingdom\n",
      "    Number of untreated units: 22\n",
      "    First treatment period: 2016-07-01\n",
      "    Number of pretreatment periods: 30\n",
      "    Number of treatment periods: 9\n"
     ]
    }
   ],
   "source": [
    "fit!(s)"
   ]
  },
  {
   "cell_type": "code",
   "execution_count": null,
   "metadata": {},
   "outputs": [],
   "source": [
    "using Plots\n",
    "plot(s)"
   ]
  },
  {
   "cell_type": "markdown",
   "metadata": {},
   "source": [
    "![](../image/model/sc.png)"
   ]
  },
  {
   "cell_type": "markdown",
   "metadata": {},
   "source": [
    "## SyntheticDiD"
   ]
  },
  {
   "cell_type": "code",
   "execution_count": 15,
   "metadata": {},
   "outputs": [
    {
     "data": {
      "text/plain": []
     },
     "execution_count": 15,
     "metadata": {},
     "output_type": "execute_result"
    },
    {
     "name": "stdout",
     "output_type": "stream",
     "text": [
      "Balanced Panel - single treated unit, continuous treatment\n",
      "    Treated unit: 3\n",
      "    Number of untreated units: 38\n",
      "    First treatment period: 1989\n",
      "    Number of pretreatment periods: 19\n",
      "    Number of treatment periods: 12\n"
     ]
    }
   ],
   "source": [
    "sp = load_smoking_panel()"
   ]
  },
  {
   "cell_type": "code",
   "execution_count": 16,
   "metadata": {},
   "outputs": [
    {
     "data": {
      "text/plain": [
       "Synthetic Difference-in-Differences Model\n",
       "\n",
       "Model is not fitted\n"
      ]
     },
     "execution_count": 16,
     "metadata": {},
     "output_type": "execute_result"
    }
   ],
   "source": [
    "sdid_model = SyntheticDiD(sp)"
   ]
  },
  {
   "cell_type": "code",
   "execution_count": 17,
   "metadata": {},
   "outputs": [
    {
     "data": {
      "text/plain": [
       "Synthetic Difference-in-Differences Model\n",
       "\tModel is fitted\n",
       "\tImpact estimate: -15.604\n"
      ]
     },
     "execution_count": 17,
     "metadata": {},
     "output_type": "execute_result"
    }
   ],
   "source": [
    "fit!(sdid_model)"
   ]
  }
 ],
 "metadata": {
  "kernelspec": {
   "display_name": "Julia (8 threads) 1.11.2",
   "language": "julia",
   "name": "julia-_8-threads_-1.11"
  },
  "language_info": {
   "file_extension": ".jl",
   "mimetype": "application/julia",
   "name": "julia",
   "version": "1.11.2"
  }
 },
 "nbformat": 4,
 "nbformat_minor": 2
}
