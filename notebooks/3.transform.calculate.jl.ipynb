{
 "cells": [
  {
   "cell_type": "markdown",
   "metadata": {
    "vscode": {
     "languageId": "plaintext"
    }
   },
   "source": [
    "# Chapter 3. Dataframe Transformation"
   ]
  },
  {
   "cell_type": "markdown",
   "metadata": {},
   "source": [
    "🚧 "
   ]
  },
  {
   "cell_type": "markdown",
   "metadata": {},
   "source": [
    "For how to simplift the process in a long pipeline, it's time to [enter the next chapter](https://reynards-org.gitbook.io/data-analysis-in-julia/4.pipeline.tools.jl)."
   ]
  },
  {
   "cell_type": "markdown",
   "metadata": {},
   "source": []
  }
 ],
 "metadata": {
  "language_info": {
   "name": "python"
  }
 },
 "nbformat": 4,
 "nbformat_minor": 2
}
