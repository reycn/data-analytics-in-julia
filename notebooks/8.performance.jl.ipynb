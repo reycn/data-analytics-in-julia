{
 "cells": [
  {
   "cell_type": "markdown",
   "id": "95c5214c",
   "metadata": {},
   "source": [
    "# Chapter 9. Performance\n"
   ]
  },
  {
   "cell_type": "code",
   "execution_count": 1,
   "id": "fe110b8e",
   "metadata": {},
   "outputs": [
    {
     "name": "stdout",
     "output_type": "stream",
     "text": [
      "\n"
     ]
    }
   ],
   "source": [
    "using Pkg\n",
    "using BenchmarkTools\n",
    "\n",
    "iterations = zeros(10000)\n",
    "println(\"\")"
   ]
  },
  {
   "cell_type": "markdown",
   "id": "8edfaffd",
   "metadata": {},
   "source": [
    "## 1. Faster for-loop using `@inbounds`"
   ]
  },
  {
   "cell_type": "code",
   "execution_count": 2,
   "id": "328c3b5e",
   "metadata": {},
   "outputs": [
    {
     "data": {
      "text/plain": [
       "iter (generic function with 1 method)"
      ]
     },
     "execution_count": 2,
     "metadata": {},
     "output_type": "execute_result"
    }
   ],
   "source": [
    "iterations = zeros(1000000)\n",
    "\n",
    "\n",
    "function iter_with_inbounds(arr)\n",
    "    @inbounds for i in 1:length(arr)\n",
    "        arr[i] = 1.0\n",
    "    end\n",
    "end\n",
    "\n",
    "function iter(arr)\n",
    "    for i in 1:length(arr)\n",
    "        arr[i] = 1.0\n",
    "    end\n",
    "end"
   ]
  },
  {
   "cell_type": "markdown",
   "id": "f7f19d66",
   "metadata": {},
   "source": [
    "Time without inbounds:"
   ]
  },
  {
   "cell_type": "code",
   "execution_count": 3,
   "id": "8b80303f",
   "metadata": {},
   "outputs": [
    {
     "name": "stdout",
     "output_type": "stream",
     "text": [
      "  0.009131 seconds (3.94 k allocations: 193.781 KiB, 92.88% compilation time)\n"
     ]
    }
   ],
   "source": [
    "@time iter(iterations)"
   ]
  },
  {
   "cell_type": "markdown",
   "id": "5d69ccf9",
   "metadata": {},
   "source": [
    "Time with inbounds:"
   ]
  },
  {
   "cell_type": "code",
   "execution_count": 4,
   "id": "adc5ebfb",
   "metadata": {},
   "outputs": [
    {
     "name": "stdout",
     "output_type": "stream",
     "text": [
      "  0.007653 seconds (4.00 k allocations: 197.516 KiB, 91.68% compilation time)\n"
     ]
    }
   ],
   "source": [
    "@time iter_with_inbounds(iterations)"
   ]
  },
  {
   "cell_type": "markdown",
   "id": "5c18dcaf",
   "metadata": {},
   "source": [
    "## 2. Avoid untyped global variables"
   ]
  },
  {
   "cell_type": "code",
   "execution_count": 5,
   "id": "f7c24c01",
   "metadata": {},
   "outputs": [
    {
     "data": {
      "text/plain": [
       "0"
      ]
     },
     "execution_count": 5,
     "metadata": {},
     "output_type": "execute_result"
    }
   ],
   "source": [
    "const DEFAULT_VAL = 0"
   ]
  },
  {
   "cell_type": "markdown",
   "id": "435a3761",
   "metadata": {},
   "source": [
    "If a global variable is needed, annotate the type in a loop:"
   ]
  },
  {
   "cell_type": "code",
   "execution_count": 6,
   "id": "c4687f43",
   "metadata": {},
   "outputs": [
    {
     "name": "stdout",
     "output_type": "stream",
     "text": [
      "  0.001316 seconds\n",
      "  0.100921 seconds (4.00 M allocations: 76.298 MiB, 19.94% gc time, 8.60% compilation time)\n"
     ]
    },
    {
     "data": {
      "text/plain": [
       "500145.03761364665"
      ]
     },
     "execution_count": 6,
     "metadata": {},
     "output_type": "execute_result"
    }
   ],
   "source": [
    "global x = rand(1000000)\n",
    "\n",
    "function loop_with_type()\n",
    "    s = 0.0\n",
    "    for i in x::Vector{Float64}\n",
    "        s += i\n",
    "    end\n",
    "    return s\n",
    "end\n",
    "\n",
    "function loop_without_type()\n",
    "    s = 0.0\n",
    "    for i in x\n",
    "        s += i\n",
    "    end\n",
    "    return s\n",
    "end\n",
    "\n",
    "@time loop_with_type()\n",
    "@time loop_without_type()"
   ]
  },
  {
   "cell_type": "markdown",
   "id": "2fc5157b",
   "metadata": {},
   "source": [
    "## 3. Check performance"
   ]
  },
  {
   "cell_type": "code",
   "execution_count": 7,
   "id": "b2dde266",
   "metadata": {},
   "outputs": [
    {
     "name": "stderr",
     "output_type": "stream",
     "text": [
      "\u001b[32m\u001b[1m   Resolving\u001b[22m\u001b[39m package versions...\n",
      "\u001b[32m\u001b[1m  No Changes\u001b[22m\u001b[39m to `~/.julia/environments/v1.11/Project.toml`\n",
      "\u001b[32m\u001b[1m  No Changes\u001b[22m\u001b[39m to `~/.julia/environments/v1.11/Manifest.toml`\n",
      "\u001b[92m\u001b[1mPrecompiling\u001b[22m\u001b[39m project...\n",
      "         \u001b[91m  ✗ \u001b[39m\u001b[90mGtkObservables\u001b[39m\n",
      "         \u001b[91m  ✗ \u001b[39mProfileView\n",
      "  0 dependencies successfully precompiled in 6 seconds. 518 already precompiled.\n",
      "  \u001b[91m2\u001b[39m dependencies errored.\n",
      "  For a report of the errors see `julia> err`. To retry use `pkg> precompile`\n"
     ]
    },
    {
     "data": {
      "text/plain": [
       "profile_test (generic function with 1 method)"
      ]
     },
     "execution_count": 7,
     "metadata": {},
     "output_type": "execute_result"
    }
   ],
   "source": [
    "using Pkg;\n",
    "Pkg.add(\"ProfileCanvas\");\n",
    "using ProfileCanvas;\n",
    "function profile_test(n)\n",
    "    for i = 1:n\n",
    "        A = randn(100, 100, 20)\n",
    "        m = maximum(A)\n",
    "        Am = mapslices(sum, A; dims=2)\n",
    "        B = A[:, :, 5]\n",
    "        Bsort = mapslices(sort, B; dims=1)\n",
    "        b = rand(100)\n",
    "        C = B .* b\n",
    "    end\n",
    "end\n",
    "\n",
    "# @profview profile_test(1)  # run once to trigger compilation (ignore this one)\n",
    "# @profview profile_test(10)"
   ]
  },
  {
   "cell_type": "markdown",
   "id": "ce47b691",
   "metadata": {},
   "source": [
    "![](../image/profile.png)"
   ]
  },
  {
   "cell_type": "markdown",
   "id": "a9bddd90",
   "metadata": {},
   "source": [
    "## 4. More on...\n",
    "See: [https://docs.julialang.org/en/v1/manual/performance-tips/](https://docs.julialang.org/en/v1/manual/performance-tips/)"
   ]
  }
 ],
 "metadata": {
  "kernelspec": {
   "display_name": "Julia (8 threads) 1.11.4",
   "language": "julia",
   "name": "julia-_8-threads_-1.11"
  },
  "language_info": {
   "file_extension": ".jl",
   "mimetype": "application/julia",
   "name": "julia",
   "version": "1.11.4"
  }
 },
 "nbformat": 4,
 "nbformat_minor": 5
}
